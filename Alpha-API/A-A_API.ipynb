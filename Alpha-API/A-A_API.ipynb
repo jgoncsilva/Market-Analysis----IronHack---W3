{
 "cells": [
  {
   "cell_type": "code",
   "execution_count": 44,
   "metadata": {},
   "outputs": [],
   "source": [
    "#Alpha Advantage\n",
    "\n",
    "import requests\n",
    "import re\n",
    "import csv\n",
    "import pandas as pd\n",
    "import urllib.request, json\n",
    "import time\n",
    "import matplotlib.pyplot as plt\n",
    "\n",
    "#mport OS - Gonçalo Usa MAC "
   ]
  },
  {
   "cell_type": "code",
   "execution_count": null,
   "metadata": {},
   "outputs": [],
   "source": []
  },
  {
   "cell_type": "code",
   "execution_count": null,
   "metadata": {},
   "outputs": [],
   "source": [
    "#ts = TimeSeries(key='NWGOGUGXN2IFYE6ONWGOGUGXN2IFYE6O') #Json\n",
    "#ts = TimeSeries(key='key')"
   ]
  },
  {
   "cell_type": "code",
   "execution_count": 45,
   "metadata": {},
   "outputs": [],
   "source": [
    "key = 'NWGOGUGXN2IFYE6ONWGOGUGXN2IFYE6O'"
   ]
  },
  {
   "cell_type": "code",
   "execution_count": 46,
   "metadata": {},
   "outputs": [],
   "source": [
    "'''ts = TimeSeries(key=api-Key, output_format='pandas')\n",
    "data, meta_data = ts.get_weekly(symbol='DXY', interval = '', outputsize = 'full')'''\n",
    "\n",
    "inputs = { \n",
    "    'function': 'TIME_SERIES_WEEKLY_ADJUSTED',\n",
    "    'symbol' : 'DXY',\n",
    "    'datatype': 'json',\n",
    "    'apykey' : key\n",
    "}"
   ]
  },
  {
   "cell_type": "code",
   "execution_count": 47,
   "metadata": {},
   "outputs": [],
   "source": [
    "url = \"https://www.alphavantage.co/query?function=TIME_SERIES_WEEKLY_ADJUSTED&symbol=DXY&apikey=NWGOGUGXN2IFYE6ONWGOGUGXN2IFYE6ONWGOGUGXN2IFYE6ONWGOGUGXN2IFYE6O\""
   ]
  },
  {
   "cell_type": "code",
   "execution_count": 48,
   "metadata": {},
   "outputs": [],
   "source": [
    "response = requests.get(url, inputs)\n",
    "\n",
    "#normalize = pd.json_normalize(response.json()).T\n",
    "#response = urllib.request.urlopen(url)\n",
    "#from  var saved(HTTPresponse Type), use . read() + decode('utf-8')\n",
    "#string = response.read().decode('utf-8')\n",
    "#Load string saved into json\n",
    "#jsondata = json.loads(string)\n",
    "\n"
   ]
  },
  {
   "cell_type": "code",
   "execution_count": 49,
   "metadata": {
    "tags": []
   },
   "outputs": [
    {
     "output_type": "execute_result",
     "data": {
      "text/plain": "   },\\n        \"2007-04-05\": {\\n            \"1. open\": \"10001.7998\",\\n            \"2. high\": \"10216.7998\",\\n            \"3. low\": \"10001.7998\",\\n            \"4. close\": \"10216.7998\",\\n            \"5. adjusted close\": \"10216.7998\",\\n            \"6. volume\": \"0\",\\n            \"7. dividend amount\": \"0.0000\"\\n        },\\n        \"2007-03-30\": {\\n            \"1. open\": \"10071.2998\",\\n            \"2. high\": \"10071.2998\",\\n            \"3. low\": \"9946.4102\",\\n            \"4. close\": \"10029.2998\",\\n            \"5. adjusted close\": \"10029.2998\",\\n            \"6. volume\": \"0\",\\n            \"7. dividend amount\": \"0.0000\"\\n        },\\n        \"2007-03-23\": {\\n            \"1. open\": \"9697.9697\",\\n            \"2. high\": \"10032.7998\",\\n            \"3. low\": \"9697.9697\",\\n            \"4. close\": \"10032.7998\",\\n            \"5. adjusted close\": \"10032.7998\",\\n            \"6. volume\": \"0\",\\n            \"7. dividend amount\": \"0.0000\"\\n        },\\n        \"2007-03-16\": {\\n            \"1. open\": \"9632.5498\",\\n            \"2. high\": \"9632.5498\",\\n            \"3. low\": \"9273.7500\",\\n            \"4. close\": \"9518.2598\",\\n            \"5. adjusted close\": \"9518.2598\",\\n            \"6. volume\": \"0\",\\n            \"7. dividend amount\": \"0.0000\"\\n        },\\n        \"2007-03-09\": {\\n            \"1. open\": \"9272.2695\",\\n            \"2. high\": \"9709.7402\",\\n            \"3. low\": \"9272.2695\",\\n            \"4. close\": \"9709.7402\",\\n            \"5. adjusted close\": \"9709.7402\",\\n            \"6. volume\": \"0\",\\n            \"7. dividend amount\": \"0.0000\"\\n        },\\n        \"2007-03-02\": {\\n            \"1. open\": \"10145.5996\",\\n            \"2. high\": \"10145.5996\",\\n            \"3. low\": \"9373.5400\",\\n            \"4. close\": \"9529.4297\",\\n            \"5. adjusted close\": \"9529.4297\",\\n            \"6. volume\": \"0\",\\n            \"7. dividend amount\": \"0.0000\"\\n        },\\n        \"2007-02-23\": {\\n            \"1. open\": \"10175.0000\",\\n            \"2. high\": \"10306.0000\",\\n            \"3. low\": \"10175.0000\",\\n            \"4. close\": \"10230.2998\",\\n            \"5. adjusted close\": \"10230.2998\",\\n            \"6. volume\": \"0\",\\n            \"7. dividend amount\": \"0.0000\"\\n        },\\n        \"2007-02-16\": {\\n            \"1. open\": \"9887.0195\",\\n            \"2. high\": \"10103.2002\",\\n            \"3. low\": \"9887.0195\",\\n            \"4. close\": \"10093.2002\",\\n            \"5. adjusted close\": \"10093.2002\",\\n            \"6. volume\": \"0\",\\n            \"7. dividend amount\": \"0.0000\"\\n        },\\n        \"2007-02-09\": {\\n            \"1. open\": \"10662.5000\",\\n            \"2. high\": \"10662.5000\",\\n            \"3. low\": \"10040.5000\",\\n            \"4. close\": \"10040.5000\",\\n            \"5. adjusted close\": \"10040.5000\",\\n            \"6. volume\": \"0\",\\n            \"7. dividend amount\": \"0.0000\"\\n        },\\n        \"2007-02-02\": {\\n            \"1. open\": \"9804.7695\",\\n            \"2. high\": \"10518.2002\",\\n            \"3. low\": \"9804.7695\",\\n            \"4. close\": \"10518.2002\",\\n            \"5. adjusted close\": \"10518.2002\",\\n            \"6. volume\": \"0\",\\n            \"7. dividend amount\": \"0.0000\"\\n        },\\n        \"2007-01-26\": {\\n            \"1. open\": \"9434.8701\",\\n            \"2. high\": \"9777.7500\",\\n            \"3. low\": \"9352.5996\",\\n            \"4. close\": \"9777.7500\",\\n            \"5. adjusted close\": \"9777.7500\",\\n            \"6. volume\": \"0\",\\n            \"7. dividend amount\": \"0.0000\"\\n        },\\n        \"2007-01-19\": {\\n            \"1. open\": \"9440.2002\",\\n            \"2. high\": \"9440.2002\",\\n            \"3. low\": \"9346.3799\",\\n            \"4. close\": \"9381.2803\",\\n            \"5. adjusted close\": \"9381.2803\",\\n            \"6. volume\": \"0\",\\n            \"7. dividend amount\": \"0.0000\"\\n        },\\n        \"2007-01-12\": {\\n            \"1. open\": \"8900.5303\",\\n            \"2. high\": \"9092.0801\",\\n            \"3. low\": \"8899.0596\",\\n            \"4. close\": \"9092.0801\",\\n            \"5. adjusted close\": \"9092.0801\",\\n            \"6. volume\": \"0\",\\n            \"7. dividend amount\": \"0.0000\"\\n        },\\n        \"2007-01-05\": {\\n            \"1. open\": \"8825.2803\",\\n            \"2. high\": \"8947.6699\",\\n            \"3. low\": \"8825.2803\",\\n            \"4. close\": \"8913.1699\",\\n            \"5. adjusted close\": \"8913.1699\",\\n            \"6. volume\": \"0\",\\n            \"7. dividend amount\": \"0.0000\"\\n        },\\n        \"2006-12-29\": {\\n            \"1. open\": \"8601.2402\",\\n            \"2. high\": \"8805.5498\",\\n            \"3. low\": \"8601.2402\",\\n            \"4. close\": \"8805.5498\",\\n            \"5. adjusted close\": \"8805.5498\",\\n            \"6. volume\": \"0\",\\n            \"7. dividend amount\": \"0.0000\"\\n        },\\n        \"2006-12-22\": {\\n            \"1. open\": \"8440.2900\",\\n            \"2. high\": \"8635.9004\",\\n            \"3. low\": \"8440.2900\",\\n            \"4. close\": \"8609.5898\",\\n            \"5. adjusted close\": \"8609.5898\",\\n            \"6. volume\": \"0\",\\n            \"7. dividend amount\": \"0.0000\"\\n        },\\n        \"2006-12-15\": {\\n            \"1. open\": \"8174.4800\",\\n            \"2. high\": \"8406.1797\",\\n            \"3. low\": \"8174.4800\",\\n            \"4. close\": \"8406.1797\",\\n            \"5. adjusted close\": \"8406.1797\",\\n            \"6. volume\": \"0\",\\n            \"7. dividend amount\": \"0.0000\"\\n        },\\n        \"2006-12-08\": {\\n            \"1. open\": \"7838.2002\",\\n            \"2. high\": \"8077.0601\",\\n            \"3. low\": \"7834.4399\",\\n            \"4. close\": \"8015.1899\",\\n            \"5. adjusted close\": \"8015.1899\",\\n            \"6. volume\": \"0\",\\n            \"7. dividend amount\": \"0.0000\"\\n        },\\n        \"2006-12-01\": {\\n            \"1. open\": \"8040.4800\",\\n            \"2. high\": \"8040.4800\",\\n            \"3. low\": \"7842.6499\",\\n            \"4. close\": \"7842.6499\",\\n            \"5. adjusted close\": \"7842.6499\",\\n            \"6. volume\": \"0\",\\n            \"7. dividend amount\": \"0.0000\"\\n        },\\n        \"2006-11-24\": {\\n            \"1. open\": \"7820.6099\",\\n            \"2. high\": \"8217.2305\",\\n            \"3. low\": \"7820.6099\",\\n            \"4. close\": \"8085.1499\",\\n            \"5. adjusted close\": \"8085.1499\",\\n            \"6. volume\": \"0\",\\n            \"7. dividend amount\": \"0.0000\"\\n        },\\n        \"2006-11-17\": {\\n            \"1. open\": \"7776.0298\",\\n            \"2. high\": \"7967.0801\",\\n            \"3. low\": \"7776.0298\",\\n            \"4. close\": \"7852.8301\",\\n            \"5. adjusted close\": \"7852.8301\",\\n            \"6. volume\": \"0\",\\n            \"7. dividend amount\": \"0.0000\"\\n        },\\n        \"2006-11-10\": {\\n            \"1. open\": \"7701.9302\",\\n            \"2. high\": \"7746.8999\",\\n            \"3. low\": \"7653.3599\",\\n            \"4. close\": \"7746.8999\",\\n            \"5. adjusted close\": \"7746.8999\",\\n            \"6. volume\": \"0\",\\n            \"7. dividend amount\": \"0.0000\"\\n        },\\n        \"2006-11-03\": {\\n            \"1. open\": \"7606.0898\",\\n            \"2. high\": \"7685.5498\",\\n            \"3. low\": \"7604.4502\",\\n            \"4. close\": \"7685.5498\",\\n            \"5. adjusted close\": \"7685.5498\",\\n            \"6. volume\": \"0\",\\n            \"7. dividend amount\": \"0.0000\"\\n        },\\n        \"2006-10-27\": {\\n            \"1. open\": \"7565.8501\",\\n            \"2. high\": \"7672.2900\",\\n            \"3. low\": \"7565.8501\",\\n            \"4. close\": \"7638.7100\",\\n            \"5. adjusted close\": \"7638.7100\",\\n            \"6. volume\": \"0\",\\n            \"7. dividend amount\": \"0.0000\"\\n        },\\n        \"2006-10-20\": {\\n            \"1. open\": \"7509.5498\",\\n            \"2. high\": \"7564.7700\",\\n            \"3. low\": \"7509.5498\",\\n            \"4. close\": \"7533.5801\",\\n            \"5. adjusted close\": \"7533.5801\",\\n            \"6. volume\": \"0\",\\n            \"7. dividend amount\": \"0.0000\"\\n        },\\n        \"2006-10-13\": {\\n            \"1. open\": \"7200.6099\",\\n            \"2. high\": \"7455.8701\",\\n            \"3. low\": \"7200.6099\",\\n            \"4. close\": \"7407.6099\",\\n            \"5. adjusted close\": \"7407.6099\",\\n            \"6. volume\": \"0\",\\n            \"7. dividend amount\": \"0.0000\"\\n        },\\n        \"2006-10-06\": {\\n            \"1. open\": \"7060.2002\",\\n            \"2. high\": \"7204.1699\",\\n            \"3. low\": \"6898.5298\",\\n            \"4. close\": \"7148.9800\",\\n            \"5. adjusted close\": \"7148.9800\",\\n            \"6. volume\": \"0\",\\n            \"7. dividend amount\": \"0.0000\"\\n        },\\n        \"2006-09-29\": {\\n            \"1. open\": \"6979.1401\",\\n            \"2. high\": \"7089.2598\",\\n            \"3. low\": \"6979.1401\",\\n            \"4. close\": \"7089.2598\",\\n            \"5. adjusted close\": \"7089.2598\",\\n            \"6. volume\": \"0\",\\n            \"7. dividend amount\": \"0.0000\"\\n        },\\n        \"2006-09-22\": {\\n            \"1. open\": \"6766.5801\",\\n            \"2. high\": \"6939.2900\",\\n            \"3. low\": \"6730.4302\",\\n            \"4. close\": \"6939.2900\",\\n            \"5. adjusted close\": \"6939.2900\",\\n            \"6. volume\": \"0\",\\n            \"7. dividend amount\": \"0.0000\"\\n        },\\n        \"2006-09-15\": {\\n            \"1. open\": \"6869.3301\",\\n            \"2. high\": \"6869.3301\",\\n            \"3. low\": \"6810.8799\",\\n            \"4. close\": \"6810.8799\",\\n            \"5. adjusted close\": \"6810.8799\",\\n            \"6. volume\": \"0\",\\n            \"7. dividend amount\": \"0.0000\"\\n        },\\n        \"2006-09-08\": {\\n            \"1. open\": \"6988.4702\",\\n            \"2. high\": \"6988.4702\",\\n            \"3. low\": \"6852.0298\",\\n            \"4. close\": \"6883.8901\",\\n            \"5. adjusted close\": \"6883.8901\",\\n            \"6. volume\": \"0\",\\n            \"7. dividend amount\": \"0.0000\"\\n        },\\n        \"2006-09-01\": {\\n            \"1. open\": \"6943.6802\",\\n            \"2. high\": \"6983.7100\",\\n            \"3. low\": \"6943.6802\",\\n            \"4. close\": \"6955.6299\",\\n            \"5. adjusted close\": \"6955.6299\",\\n            \"6. volume\": \"0\",\\n            \"7. dividend amount\": \"0.0000\"\\n        },\\n        \"2006-08-25\": {\\n            \"1. open\": \"7215.7700\",\\n            \"2. high\": \"7215.7700\",\\n            \"3. low\": \"6990.3701\",\\n            \"4. close\": \"6990.3701\",\\n            \"5. adjusted close\": \"6990.3701\",\\n            \"6. volume\": \"0\",\\n            \"7. dividend amount\": \"0.0000\"\\n        },\\n        \"2006-08-18\": {\\n            \"1. open\": \"6945.2100\",\\n            \"2. high\": \"7120.7798\",\\n            \"3. low\": \"6945.2100\",\\n            \"4. close\": \"7120.7798\",\\n            \"5. adjusted close\": \"7120.7798\",\\n            \"6. volume\": \"0\",\\n            \"7. dividend amount\": \"0.0000\"\\n        },\\n        \"2006-08-11\": {\\n            \"1. open\": \"6931.5801\",\\n            \"2. high\": \"6931.5801\",\\n            \"3. low\": \"6780.7998\",\\n            \"4. close\": \"6840.8398\",\\n            \"5. adjusted close\": \"6840.8398\",\\n            \"6. volume\": \"0\",\\n            \"7. dividend amount\": \"0.0000\"\\n        },\\n        \"2006-08-04\": {\\n            \"1. open\": \"6750.1499\",\\n            \"2. high\": \"6917.1299\",\\n            \"3. low\": \"6745.7900\",\\n            \"4. close\": \"6917.1299\",\\n            \"5. adjusted close\": \"6917.1299\",\\n            \"6. volume\": \"0\",\\n            \"7. dividend amount\": \"0.0000\"\\n        },\\n        \"2006-07-28\": {\\n            \"1. open\": \"6523.7798\",\\n            \"2. high\": \"6725.1001\",\\n            \"3. low\": \"6523.7798\",\\n            \"4. close\": \"6683.2500\",\\n            \"5. adjusted close\": \"6683.2500\",\\n            \"6. volume\": \"0\",\\n            \"7. dividend amount\": \"0.0000\"\\n        },\\n        \"2006-07-21\": {\\n            \"1. open\": \"6508.0000\",\\n            \"2. high\": \"6660.3398\",\\n            \"3. low\": \"6494.0400\",\\n            \"4. close\": \"6524.0698\",\\n            \"5. adjusted close\": \"6524.0698\",\\n            \"6. volume\": \"0\",\\n            \"7. dividend amount\": \"0.0000\"\\n        },\\n        \"2006-07-14\": {\\n            \"1. open\": \"6794.6001\",\\n            \"2. high\": \"6895.1001\",\\n            \"3. low\": \"6740.5601\",\\n            \"4. close\": \"6740.5601\",\\n            \"5. adjusted close\": \"6740.5601\",\\n            \"6. volume\": \"0\",\\n            \"7. dividend amount\": \"0.0000\"\\n        },\\n        \"2006-07-07\": {\\n            \"1. open\": \"6874.2798\",\\n            \"2. high\": \"6874.2798\",\\n            \"3. low\": \"6772.9902\",\\n            \"4. close\": \"6821.9302\",\\n            \"5. adjusted close\": \"6821.9302\",\\n            \"6. volume\": \"0\",\\n            \"7. dividend amount\": \"0.0000\"\\n        },\\n        \"2006-06-30\": {\\n            \"1. open\": \"6761.1001\",\\n            \"2. high\": \"6847.1899\",\\n            \"3. low\": \"6761.1001\",\\n            \"4. close\": \"6847.1899\",\\n            \"5. adjusted close\": \"6847.1899\",\\n            \"6. volume\": \"0\",\\n            \"7. dividend amount\": \"0.0000\"\\n        },\\n        \"2006-06-23\": {\\n            \"1. open\": \"6743.3701\",\\n            \"2. high\": \"6767.9302\",\\n            \"3. low\": \"6635.6802\",\\n            \"4. close\": \"6693.5898\",\\n            \"5. adjusted close\": \"6693.5898\",\\n            \"6. volume\": \"0\",\\n            \"7. dividend amount\": \"0.0000\"\\n        },\\n        \"2006-06-16\": {\\n            \"1. open\": \"6328.5698\",\\n            \"2. high\": \"6383.4302\",\\n            \"3. low\": \"5975.0000\",\\n            \"4. close\": \"6383.4302\",\\n            \"5. adjusted close\": \"6383.4302\",\\n            \"6. volume\": \"0\",\\n            \"7. dividend amount\": \"0.0000\"\\n        },\\n        \"2006-06-09\": {\\n            \"1. open\": \"6770.0698\",\\n            \"2. high\": \"6770.0698\",\\n            \"3. low\": \"6297.6299\",\\n            \"4. close\": \"6328.5698\",\\n            \"5. adjusted close\": \"6328.5698\",\\n            \"6. volume\": \"0\",\\n            \"7. dividend amount\": \"0.0000\"\\n        },\\n        \"2006-06-02\": {\\n            \"1. open\": \"7053.7100\",\\n            \"2. high\": \"7143.2300\",\\n            \"3. low\": \"6915.1802\",\\n            \"4. close\": \"6915.1802\",\\n            \"5. adjusted close\": \"6915.1802\",\\n            \"6. volume\": \"0\",\\n            \"7. dividend amount\": \"0.0000\"\\n        },\\n        \"2006-05-26\": {\\n            \"1. open\": \"6878.2100\",\\n            \"2. high\": \"7158.9199\",\\n            \"3. low\": \"6752.6499\",\\n            \"4. close\": \"7158.9199\",\\n            \"5. adjusted close\": \"7158.9199\",\\n            \"6. volume\": \"0\",\\n            \"7. dividend amount\": \"0.0000\"\\n        },\\n        \"2006-05-19\": {\\n            \"1. open\": \"7696.7002\",\\n            \"2. high\": \"7696.7002\",\\n            \"3. low\": \"7128.8599\",\\n            \"4. close\": \"7128.8599\",\\n            \"5. adjusted close\": \"7128.8599\",\\n            \"6. volume\": \"0\",\\n            \"7. dividend amount\": \"0.0000\"\\n        },\\n        \"2006-05-12\": {\\n            \"1. open\": \"8145.2202\",\\n            \"2. high\": \"8192.5498\",\\n            \"3. low\": \"7933.5898\",\\n            \"4. close\": \"7933.5898\",\\n            \"5. adjusted close\": \"7933.5898\",\\n            \"6. volume\": \"0\",\\n            \"7. dividend amount\": \"0.0000\"\\n        },\\n        \"2006-05-05\": {\\n            \"1. open\": \"7426.8101\",\\n            \"2. high\": \"7880.9199\",\\n            \"3. low\": \"7426.8101\",\\n            \"4. close\": \"7880.9199\",\\n            \"5. adjusted close\": \"7880.9199\",\\n            \"6. volume\": \"0\",\\n            \"7. dividend amount\": \"0.0000\"\\n        },\\n        \"2006-04-28\": {\\n            \"1. open\": \"7416.7900\",\\n            \"2. high\": \"7484.8701\",\\n            \"3. low\": \"7416.7900\",\\n            \"4. close\": \"7426.8101\",\\n            \"5. adjusted close\": \"7426.8101\",\\n            \"6. volume\": \"0\",\\n            \"7. dividend amount\": \"0.0000\"\\n        },\\n        \"2006-04-21\": {\\n            \"1. open\": \"7305.6899\",\\n            \"2. high\": \"7416.7900\",\\n            \"3. low\": \"7254.6802\",\\n            \"4. close\": \"7416.7900\",\\n            \"5. adjusted close\": \"7416.7900\",\\n            \"6. volume\": \"0\",\\n            \"7. dividend amount\": \"0.0000\"\\n        },\\n        \"2006-04-13\": {\\n            \"1. open\": \"7256.4902\",\\n            \"2. high\": \"7314.2798\",\\n            \"3. low\": \"7256.4902\",\\n            \"4. close\": \"7305.6899\",\\n            \"5. adjusted close\": \"7305.6899\",\\n            \"6. volume\": \"0\",\\n            \"7. dividend amount\": \"0.0000\"\\n        },\\n        \"2006-04-07\": {\\n            \"1. open\": \"6926.6099\",\\n            \"2. high\": \"7366.4102\",\\n            \"3. low\": \"6926.6099\",\\n            \"4. close\": \"7366.4102\",\\n            \"5. adjusted close\": \"7366.4102\",\\n            \"6. volume\": \"0\",\\n            \"7. dividend amount\": \"0.0000\"\\n        },\\n        \"2006-03-31\": {\\n            \"1. open\": \"7049.5601\",\\n            \"2. high\": \"7049.5601\",\\n            \"3. low\": \"6824.7002\",\\n            \"4. close\": \"6833.9902\",\\n            \"5. adjusted close\": \"6833.9902\",\\n            \"6. volume\": \"0\",\\n            \"7. dividend amount\": \"0.0000\"\\n        },\\n        \"2006-03-24\": {\\n            \"1. open\": \"7172.8198\",\\n            \"2. high\": \"7172.8198\",\\n            \"3. low\": \"7039.5698\",\\n            \"4. close\": \"7127.9199\",\\n            \"5. adjusted close\": \"7127.9199\",\\n            \"6. volume\": \"0\",\\n            \"7. dividend amount\": \"0.0000\"\\n        },\\n        \"2006-03-17\": {\\n            \"1. open\": \"6633.3901\",\\n            \"2. high\": \"6951.5298\",\\n            \"3. low\": \"6633.3901\",\\n            \"4. close\": \"6951.5298\",\\n            \"5. adjusted close\": \"6951.5298\",\\n            \"6. volume\": \"0\",\\n            \"7. dividend amount\": \"0.0000\"\\n        },\\n        \"2006-03-10\": {\\n            \"1. open\": \"6402.0200\",\\n            \"2. high\": \"6402.0200\",\\n            \"3. low\": \"6150.3901\",\\n            \"4. close\": \"6395.1699\",\\n            \"5. adjusted close\": \"6395.1699\",\\n            \"6. volume\": \"0\",\\n            \"7. dividend amount\": \"0.0000\"\\n        },\\n        \"2006-03-03\": {\\n            \"1. open\": \"6686.2700\",\\n            \"2. high\": \"6686.2700\",\\n            \"3. low\": \"6383.2798\",\\n            \"4. close\": \"6402.0200\",\\n            \"5. adjusted close\": \"6402.0200\",\\n            \"6. volume\": \"0\",\\n            \"7. dividend amount\": \"0.0000\"\\n        },\\n        \"2006-02-24\": {\\n            \"1. open\": \"6602.7202\",\\n            \"2. high\": \"6802.1802\",\\n            \"3. low\": \"6602.7202\",\\n            \"4. close\": \"6802.1802\",\\n            \"5. adjusted close\": \"6802.1802\",\\n            \"6. volume\": \"0\",\\n            \"7. dividend amount\": \"0.0000\"\\n        },\\n        \"2006-02-17\": {\\n            \"1. open\": \"6560.0498\",\\n            \"2. high\": \"6710.1001\",\\n            \"3. low\": \"6462.1499\",\\n            \"4. close\": \"6710.1001\",\\n            \"5. adjusted close\": \"6710.1001\",\\n            \"6. volume\": \"0\",\\n            \"7. dividend amount\": \"0.0000\"\\n        },\\n        \"2006-02-10\": {\\n            \"1. open\": \"6478.8101\",\\n            \"2. high\": \"6790.9902\",\\n            \"3. low\": \"6478.8101\",\\n            \"4. close\": \"6726.9800\",\\n            \"5. adjusted close\": \"6726.9800\",\\n            \"6. volume\": \"0\",\\n            \"7. dividend amount\": \"0.0000\"\\n        },\\n        \"2006-02-03\": {\\n            \"1. open\": \"5776.1899\",\\n            \"2. high\": \"6130.8599\",\\n            \"3. low\": \"5776.1899\",\\n            \"4. close\": \"6130.8599\",\\n            \"5. adjusted close\": \"6130.8599\",\\n            \"6. volume\": \"0\",\\n            \"7. dividend amount\": \"0.0000\"\\n        },\\n        \"2006-01-27\": {\\n            \"1. open\": \"5780.6299\",\\n            \"2. high\": \"5863.2998\",\\n            \"3. low\": \"5758.7202\",\\n            \"4. close\": \"5758.7202\",\\n            \"5. adjusted close\": \"5758.7202\",\\n            \"6. volume\": \"0\",\\n            \"7. dividend amount\": \"0.0000\"\\n        },\\n        \"2006-01-20\": {\\n            \"1. open\": \"5640.6201\",\\n            \"2. high\": \"5778.8701\",\\n            \"3. low\": \"5605.3101\",\\n            \"4. close\": \"5778.8701\",\\n            \"5. adjusted close\": \"5778.8701\",\\n            \"6. volume\": \"0\",\\n            \"7. dividend amount\": \"0.0000\"\\n        },\\n        \"2006-01-13\": {\\n            \"1. open\": \"5268.6201\",\\n            \"2. high\": \"5526.3301\",\\n            \"3. low\": \"5268.6201\",\\n            \"4. close\": \"5521.1699\",\\n            \"5. adjusted close\": \"5521.1699\",\\n            \"6. volume\": \"0\",\\n            \"7. dividend amount\": \"0.0000\"\\n        }\\n    }\\n}'"
     },
     "metadata": {},
     "execution_count": 49
    }
   ],
   "source": [
    "response.content"
   ]
  },
  {
   "cell_type": "code",
   "execution_count": 53,
   "metadata": {},
   "outputs": [
    {
     "output_type": "execute_result",
     "data": {
      "text/plain": "                                            Meta Data  \\\n1. Information     Weekly Adjusted Prices and Volumes   \n2. Symbol                                         DXY   \n3. Last Refreshed                          2020-04-29   \n4. Time Zone                               US/Eastern   \n2020-04-29                                        NaN   \n...                                               ...   \n2006-02-10                                        NaN   \n2006-02-03                                        NaN   \n2006-01-27                                        NaN   \n2006-01-20                                        NaN   \n2006-01-13                                        NaN   \n\n                                         Weekly Adjusted Time Series  \n1. Information                                                   NaN  \n2. Symbol                                                        NaN  \n3. Last Refreshed                                                NaN  \n4. Time Zone                                                     NaN  \n2020-04-29         {'1. open': '746.3900', '2. high': '760.9300',...  \n...                                                              ...  \n2006-02-10         {'1. open': '6478.8101', '2. high': '6790.9902...  \n2006-02-03         {'1. open': '5776.1899', '2. high': '6130.8599...  \n2006-01-27         {'1. open': '5780.6299', '2. high': '5863.2998...  \n2006-01-20         {'1. open': '5640.6201', '2. high': '5778.8701...  \n2006-01-13         {'1. open': '5268.6201', '2. high': '5526.3301...  \n\n[708 rows x 2 columns]",
      "text/html": "<div>\n<style scoped>\n    .dataframe tbody tr th:only-of-type {\n        vertical-align: middle;\n    }\n\n    .dataframe tbody tr th {\n        vertical-align: top;\n    }\n\n    .dataframe thead th {\n        text-align: right;\n    }\n</style>\n<table border=\"1\" class=\"dataframe\">\n  <thead>\n    <tr style=\"text-align: right;\">\n      <th></th>\n      <th>Meta Data</th>\n      <th>Weekly Adjusted Time Series</th>\n    </tr>\n  </thead>\n  <tbody>\n    <tr>\n      <th>1. Information</th>\n      <td>Weekly Adjusted Prices and Volumes</td>\n      <td>NaN</td>\n    </tr>\n    <tr>\n      <th>2. Symbol</th>\n      <td>DXY</td>\n      <td>NaN</td>\n    </tr>\n    <tr>\n      <th>3. Last Refreshed</th>\n      <td>2020-04-29</td>\n      <td>NaN</td>\n    </tr>\n    <tr>\n      <th>4. Time Zone</th>\n      <td>US/Eastern</td>\n      <td>NaN</td>\n    </tr>\n    <tr>\n      <th>2020-04-29</th>\n      <td>NaN</td>\n      <td>{'1. open': '746.3900', '2. high': '760.9300',...</td>\n    </tr>\n    <tr>\n      <th>...</th>\n      <td>...</td>\n      <td>...</td>\n    </tr>\n    <tr>\n      <th>2006-02-10</th>\n      <td>NaN</td>\n      <td>{'1. open': '6478.8101', '2. high': '6790.9902...</td>\n    </tr>\n    <tr>\n      <th>2006-02-03</th>\n      <td>NaN</td>\n      <td>{'1. open': '5776.1899', '2. high': '6130.8599...</td>\n    </tr>\n    <tr>\n      <th>2006-01-27</th>\n      <td>NaN</td>\n      <td>{'1. open': '5780.6299', '2. high': '5863.2998...</td>\n    </tr>\n    <tr>\n      <th>2006-01-20</th>\n      <td>NaN</td>\n      <td>{'1. open': '5640.6201', '2. high': '5778.8701...</td>\n    </tr>\n    <tr>\n      <th>2006-01-13</th>\n      <td>NaN</td>\n      <td>{'1. open': '5268.6201', '2. high': '5526.3301...</td>\n    </tr>\n  </tbody>\n</table>\n<p>708 rows × 2 columns</p>\n</div>"
     },
     "metadata": {},
     "execution_count": 53
    }
   ],
   "source": [
    "pd.DataFrame(response.json())"
   ]
  },
  {
   "cell_type": "code",
   "execution_count": 55,
   "metadata": {},
   "outputs": [],
   "source": [
    "data_table = pd.DataFrame(response.json()['Weekly Adjusted Time Series'])"
   ]
  },
  {
   "cell_type": "code",
   "execution_count": 56,
   "metadata": {},
   "outputs": [
    {
     "output_type": "execute_result",
     "data": {
      "text/plain": "                  2020-04-29 2020-04-24 2020-04-16 2020-04-09 2020-04-03  \\\n1. open             746.3900   729.8600   735.3200   725.9500   753.3000   \n2. high             760.9300   737.5900   754.6000   748.3300   753.3000   \n3. low              746.3900   725.6200   728.7900   725.9500   663.4100   \n4. close            755.3100   725.6200   746.2600   735.3200   663.4100   \n5. adjusted close   755.3100   725.6200   746.2600   735.3200   663.4100   \n\n                  2020-03-27 2020-03-12 2020-03-06 2020-02-24 2020-02-21  ...  \\\n1. open             706.1900   653.7800   797.5300   962.2900  1062.5500  ...   \n2. high             715.5100   733.6100   859.4100   962.2900  1066.2900  ...   \n3. low              706.1900   630.4000   786.7100   962.2900  1046.3000  ...   \n4. close            715.5100   630.4000   786.7100   962.2900  1046.3000  ...   \n5. adjusted close   715.5100   630.4000   786.7100   962.2900  1046.3000  ...   \n\n                  2006-03-17 2006-03-10 2006-03-03 2006-02-24 2006-02-17  \\\n1. open            6633.3901  6402.0200  6686.2700  6602.7202  6560.0498   \n2. high            6951.5298  6402.0200  6686.2700  6802.1802  6710.1001   \n3. low             6633.3901  6150.3901  6383.2798  6602.7202  6462.1499   \n4. close           6951.5298  6395.1699  6402.0200  6802.1802  6710.1001   \n5. adjusted close  6951.5298  6395.1699  6402.0200  6802.1802  6710.1001   \n\n                  2006-02-10 2006-02-03 2006-01-27 2006-01-20 2006-01-13  \n1. open            6478.8101  5776.1899  5780.6299  5640.6201  5268.6201  \n2. high            6790.9902  6130.8599  5863.2998  5778.8701  5526.3301  \n3. low             6478.8101  5776.1899  5758.7202  5605.3101  5268.6201  \n4. close           6726.9800  6130.8599  5758.7202  5778.8701  5521.1699  \n5. adjusted close  6726.9800  6130.8599  5758.7202  5778.8701  5521.1699  \n\n[5 rows x 704 columns]",
      "text/html": "<div>\n<style scoped>\n    .dataframe tbody tr th:only-of-type {\n        vertical-align: middle;\n    }\n\n    .dataframe tbody tr th {\n        vertical-align: top;\n    }\n\n    .dataframe thead th {\n        text-align: right;\n    }\n</style>\n<table border=\"1\" class=\"dataframe\">\n  <thead>\n    <tr style=\"text-align: right;\">\n      <th></th>\n      <th>2020-04-29</th>\n      <th>2020-04-24</th>\n      <th>2020-04-16</th>\n      <th>2020-04-09</th>\n      <th>2020-04-03</th>\n      <th>2020-03-27</th>\n      <th>2020-03-12</th>\n      <th>2020-03-06</th>\n      <th>2020-02-24</th>\n      <th>2020-02-21</th>\n      <th>...</th>\n      <th>2006-03-17</th>\n      <th>2006-03-10</th>\n      <th>2006-03-03</th>\n      <th>2006-02-24</th>\n      <th>2006-02-17</th>\n      <th>2006-02-10</th>\n      <th>2006-02-03</th>\n      <th>2006-01-27</th>\n      <th>2006-01-20</th>\n      <th>2006-01-13</th>\n    </tr>\n  </thead>\n  <tbody>\n    <tr>\n      <th>1. open</th>\n      <td>746.3900</td>\n      <td>729.8600</td>\n      <td>735.3200</td>\n      <td>725.9500</td>\n      <td>753.3000</td>\n      <td>706.1900</td>\n      <td>653.7800</td>\n      <td>797.5300</td>\n      <td>962.2900</td>\n      <td>1062.5500</td>\n      <td>...</td>\n      <td>6633.3901</td>\n      <td>6402.0200</td>\n      <td>6686.2700</td>\n      <td>6602.7202</td>\n      <td>6560.0498</td>\n      <td>6478.8101</td>\n      <td>5776.1899</td>\n      <td>5780.6299</td>\n      <td>5640.6201</td>\n      <td>5268.6201</td>\n    </tr>\n    <tr>\n      <th>2. high</th>\n      <td>760.9300</td>\n      <td>737.5900</td>\n      <td>754.6000</td>\n      <td>748.3300</td>\n      <td>753.3000</td>\n      <td>715.5100</td>\n      <td>733.6100</td>\n      <td>859.4100</td>\n      <td>962.2900</td>\n      <td>1066.2900</td>\n      <td>...</td>\n      <td>6951.5298</td>\n      <td>6402.0200</td>\n      <td>6686.2700</td>\n      <td>6802.1802</td>\n      <td>6710.1001</td>\n      <td>6790.9902</td>\n      <td>6130.8599</td>\n      <td>5863.2998</td>\n      <td>5778.8701</td>\n      <td>5526.3301</td>\n    </tr>\n    <tr>\n      <th>3. low</th>\n      <td>746.3900</td>\n      <td>725.6200</td>\n      <td>728.7900</td>\n      <td>725.9500</td>\n      <td>663.4100</td>\n      <td>706.1900</td>\n      <td>630.4000</td>\n      <td>786.7100</td>\n      <td>962.2900</td>\n      <td>1046.3000</td>\n      <td>...</td>\n      <td>6633.3901</td>\n      <td>6150.3901</td>\n      <td>6383.2798</td>\n      <td>6602.7202</td>\n      <td>6462.1499</td>\n      <td>6478.8101</td>\n      <td>5776.1899</td>\n      <td>5758.7202</td>\n      <td>5605.3101</td>\n      <td>5268.6201</td>\n    </tr>\n    <tr>\n      <th>4. close</th>\n      <td>755.3100</td>\n      <td>725.6200</td>\n      <td>746.2600</td>\n      <td>735.3200</td>\n      <td>663.4100</td>\n      <td>715.5100</td>\n      <td>630.4000</td>\n      <td>786.7100</td>\n      <td>962.2900</td>\n      <td>1046.3000</td>\n      <td>...</td>\n      <td>6951.5298</td>\n      <td>6395.1699</td>\n      <td>6402.0200</td>\n      <td>6802.1802</td>\n      <td>6710.1001</td>\n      <td>6726.9800</td>\n      <td>6130.8599</td>\n      <td>5758.7202</td>\n      <td>5778.8701</td>\n      <td>5521.1699</td>\n    </tr>\n    <tr>\n      <th>5. adjusted close</th>\n      <td>755.3100</td>\n      <td>725.6200</td>\n      <td>746.2600</td>\n      <td>735.3200</td>\n      <td>663.4100</td>\n      <td>715.5100</td>\n      <td>630.4000</td>\n      <td>786.7100</td>\n      <td>962.2900</td>\n      <td>1046.3000</td>\n      <td>...</td>\n      <td>6951.5298</td>\n      <td>6395.1699</td>\n      <td>6402.0200</td>\n      <td>6802.1802</td>\n      <td>6710.1001</td>\n      <td>6726.9800</td>\n      <td>6130.8599</td>\n      <td>5758.7202</td>\n      <td>5778.8701</td>\n      <td>5521.1699</td>\n    </tr>\n  </tbody>\n</table>\n<p>5 rows × 704 columns</p>\n</div>"
     },
     "metadata": {},
     "execution_count": 56
    }
   ],
   "source": [
    "data_table.head()"
   ]
  },
  {
   "cell_type": "code",
   "execution_count": 59,
   "metadata": {},
   "outputs": [],
   "source": [
    "metadata = pd.DataFrame.from_dict(response.json()['Meta Data'], orient='index').T"
   ]
  },
  {
   "cell_type": "code",
   "execution_count": 60,
   "metadata": {},
   "outputs": [
    {
     "output_type": "execute_result",
     "data": {
      "text/plain": "                       1. Information 2. Symbol 3. Last Refreshed 4. Time Zone\n0  Weekly Adjusted Prices and Volumes       DXY        2020-04-29   US/Eastern",
      "text/html": "<div>\n<style scoped>\n    .dataframe tbody tr th:only-of-type {\n        vertical-align: middle;\n    }\n\n    .dataframe tbody tr th {\n        vertical-align: top;\n    }\n\n    .dataframe thead th {\n        text-align: right;\n    }\n</style>\n<table border=\"1\" class=\"dataframe\">\n  <thead>\n    <tr style=\"text-align: right;\">\n      <th></th>\n      <th>1. Information</th>\n      <th>2. Symbol</th>\n      <th>3. Last Refreshed</th>\n      <th>4. Time Zone</th>\n    </tr>\n  </thead>\n  <tbody>\n    <tr>\n      <th>0</th>\n      <td>Weekly Adjusted Prices and Volumes</td>\n      <td>DXY</td>\n      <td>2020-04-29</td>\n      <td>US/Eastern</td>\n    </tr>\n  </tbody>\n</table>\n</div>"
     },
     "metadata": {},
     "execution_count": 60
    }
   ],
   "source": [
    "metadata"
   ]
  },
  {
   "cell_type": "code",
   "execution_count": 63,
   "metadata": {},
   "outputs": [],
   "source": [
    "data_table['Ticker'] = response.json()['Meta Data']['2. Symbol']\n",
    "data_table['Last Refreshed'] = response.json()['Meta Data']['3. Last Refreshed']"
   ]
  },
  {
   "cell_type": "code",
   "execution_count": 75,
   "metadata": {},
   "outputs": [],
   "source": [
    "data = data_table.T"
   ]
  },
  {
   "cell_type": "code",
   "execution_count": 78,
   "metadata": {},
   "outputs": [],
   "source": [
    "data_dropp = data.drop(['6. volume','7. dividend amount'], axis=1)"
   ]
  },
  {
   "cell_type": "code",
   "execution_count": 79,
   "metadata": {},
   "outputs": [
    {
     "output_type": "execute_result",
     "data": {
      "text/plain": "                   1. open     2. high      3. low    4. close  \\\n2020-04-29        746.3900    760.9300    746.3900    755.3100   \n2020-04-24        729.8600    737.5900    725.6200    725.6200   \n2020-04-16        735.3200    754.6000    728.7900    746.2600   \n2020-04-09        725.9500    748.3300    725.9500    735.3200   \n2020-04-03        753.3000    753.3000    663.4100    663.4100   \n...                    ...         ...         ...         ...   \n2006-01-27       5780.6299   5863.2998   5758.7202   5758.7202   \n2006-01-20       5640.6201   5778.8701   5605.3101   5778.8701   \n2006-01-13       5268.6201   5526.3301   5268.6201   5521.1699   \nTicker                 DXY         DXY         DXY         DXY   \nLast Refreshed  2020-04-29  2020-04-29  2020-04-29  2020-04-29   \n\n               5. adjusted close  \n2020-04-29              755.3100  \n2020-04-24              725.6200  \n2020-04-16              746.2600  \n2020-04-09              735.3200  \n2020-04-03              663.4100  \n...                          ...  \n2006-01-27             5758.7202  \n2006-01-20             5778.8701  \n2006-01-13             5521.1699  \nTicker                       DXY  \nLast Refreshed        2020-04-29  \n\n[706 rows x 5 columns]",
      "text/html": "<div>\n<style scoped>\n    .dataframe tbody tr th:only-of-type {\n        vertical-align: middle;\n    }\n\n    .dataframe tbody tr th {\n        vertical-align: top;\n    }\n\n    .dataframe thead th {\n        text-align: right;\n    }\n</style>\n<table border=\"1\" class=\"dataframe\">\n  <thead>\n    <tr style=\"text-align: right;\">\n      <th></th>\n      <th>1. open</th>\n      <th>2. high</th>\n      <th>3. low</th>\n      <th>4. close</th>\n      <th>5. adjusted close</th>\n    </tr>\n  </thead>\n  <tbody>\n    <tr>\n      <th>2020-04-29</th>\n      <td>746.3900</td>\n      <td>760.9300</td>\n      <td>746.3900</td>\n      <td>755.3100</td>\n      <td>755.3100</td>\n    </tr>\n    <tr>\n      <th>2020-04-24</th>\n      <td>729.8600</td>\n      <td>737.5900</td>\n      <td>725.6200</td>\n      <td>725.6200</td>\n      <td>725.6200</td>\n    </tr>\n    <tr>\n      <th>2020-04-16</th>\n      <td>735.3200</td>\n      <td>754.6000</td>\n      <td>728.7900</td>\n      <td>746.2600</td>\n      <td>746.2600</td>\n    </tr>\n    <tr>\n      <th>2020-04-09</th>\n      <td>725.9500</td>\n      <td>748.3300</td>\n      <td>725.9500</td>\n      <td>735.3200</td>\n      <td>735.3200</td>\n    </tr>\n    <tr>\n      <th>2020-04-03</th>\n      <td>753.3000</td>\n      <td>753.3000</td>\n      <td>663.4100</td>\n      <td>663.4100</td>\n      <td>663.4100</td>\n    </tr>\n    <tr>\n      <th>...</th>\n      <td>...</td>\n      <td>...</td>\n      <td>...</td>\n      <td>...</td>\n      <td>...</td>\n    </tr>\n    <tr>\n      <th>2006-01-27</th>\n      <td>5780.6299</td>\n      <td>5863.2998</td>\n      <td>5758.7202</td>\n      <td>5758.7202</td>\n      <td>5758.7202</td>\n    </tr>\n    <tr>\n      <th>2006-01-20</th>\n      <td>5640.6201</td>\n      <td>5778.8701</td>\n      <td>5605.3101</td>\n      <td>5778.8701</td>\n      <td>5778.8701</td>\n    </tr>\n    <tr>\n      <th>2006-01-13</th>\n      <td>5268.6201</td>\n      <td>5526.3301</td>\n      <td>5268.6201</td>\n      <td>5521.1699</td>\n      <td>5521.1699</td>\n    </tr>\n    <tr>\n      <th>Ticker</th>\n      <td>DXY</td>\n      <td>DXY</td>\n      <td>DXY</td>\n      <td>DXY</td>\n      <td>DXY</td>\n    </tr>\n    <tr>\n      <th>Last Refreshed</th>\n      <td>2020-04-29</td>\n      <td>2020-04-29</td>\n      <td>2020-04-29</td>\n      <td>2020-04-29</td>\n      <td>2020-04-29</td>\n    </tr>\n  </tbody>\n</table>\n<p>706 rows × 5 columns</p>\n</div>"
     },
     "metadata": {},
     "execution_count": 79
    }
   ],
   "source": [
    "data_dropp"
   ]
  },
  {
   "cell_type": "code",
   "execution_count": null,
   "metadata": {},
   "outputs": [],
   "source": [
    "data_dropp['returns'] = "
   ]
  }
 ],
 "metadata": {
  "kernelspec": {
   "display_name": "Python 3",
   "language": "python",
   "name": "python3"
  },
  "language_info": {
   "codemirror_mode": {
    "name": "ipython",
    "version": 3
   },
   "file_extension": ".py",
   "mimetype": "text/x-python",
   "name": "python",
   "nbconvert_exporter": "python",
   "pygments_lexer": "ipython3",
   "version": "3.7.6"
  }
 },
 "nbformat": 4,
 "nbformat_minor": 4
}