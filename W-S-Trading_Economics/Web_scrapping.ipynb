{
 "cells": [
  {
   "cell_type": "code",
   "execution_count": 2,
   "metadata": {},
   "outputs": [],
   "source": [
    "import numpy as np\n",
    "import pandas as pd\n",
    "import matplotlib.pyplot as plt\n",
    "import seaborn as sns"
   ]
  },
  {
   "cell_type": "code",
   "execution_count": 260,
   "metadata": {},
   "outputs": [],
   "source": [
    "def drop_rows_gdp(table_gdp):\n",
    "    return table_gdp.drop([4,5,7,8,9,10,11,12,14,15,16], axis = 0, inplace = False)\n",
    "\n",
    "def drop_rows_price(table_price):\n",
    "    return table_price.drop([1,3,4,5,6,7,10,11,12,13,14,16,17], axis = 0, inplace = False)\n",
    "\n",
    "def diff(table):\n",
    "    table['difference'] = table['Highest'] - table['Lowest']\n",
    "    return table['difference']\n",
    "\n",
    "def dist_max(table):\n",
    "    table['Distance Max'] = table['Highest'] - table['Last']\n",
    "    return table['Distance Max']\n",
    "\n",
    "def gdp_1year(table):\n",
    "    table['GDP in 1 Year'] = table['GDP'] * (1 + table['GDP Annual Growth Rate'])\n",
    "    return table['GDP in 1 Year']\n",
    "\n",
    "def gdp_5year(table):\n",
    "    table['GDP in 5 Year'] = table['GDP'] * (1 + table['GDP Annual Growth Rate'])**5\n",
    "    return table['GDP in 5 Year']\n",
    "\n",
    "def gdp_10year(table):\n",
    "    table['GDP in 10 Year'] = table['GDP'] * (1 + table['GDP Annual Growth Rate'])**10\n",
    "    return table['GDP in 10 Year']"
   ]
  },
  {
   "cell_type": "code",
   "execution_count": 122,
   "metadata": {},
   "outputs": [],
   "source": [
    "countries = ['united-states', 'Canada', 'Switzerland', 'Japan', 'united-kingdom', 'european-union', 'Sweden']\n",
    "\n",
    "indicators = ['gdp', 'inflation-rate', 'consumer-price-index-cpi']"
   ]
  },
  {
   "cell_type": "code",
   "execution_count": 123,
   "metadata": {},
   "outputs": [],
   "source": [
    "url = 'https://tradingeconomics.com/'"
   ]
  },
  {
   "cell_type": "code",
   "execution_count": 124,
   "metadata": {},
   "outputs": [],
   "source": [
    "url_list = []\n",
    "\n",
    "# we're going inside each country and get the indicators that we need\n",
    "for country in countries:\n",
    "    for ind in indicators:\n",
    "        # we're appending the url's to a list so then we can loop them and get the graphs\n",
    "        url_list.append(\"https://tradingeconomics.com/\" + country + \"/\" + ind)\n",
    "\n",
    "data_list = []\n",
    "for x in url_list:\n",
    "    # append the read url to give us a list with the tables\n",
    "    data_list.append(pd.read_html(x))\n",
    "                     \n",
    "# data_list will give us a big list with a bunch of tables. In the next cells we will select the ones we want\n"
   ]
  },
  {
   "cell_type": "code",
   "execution_count": 307,
   "metadata": {},
   "outputs": [
    {
     "data": {
      "text/html": [
       "<div>\n",
       "<style scoped>\n",
       "    .dataframe tbody tr th:only-of-type {\n",
       "        vertical-align: middle;\n",
       "    }\n",
       "\n",
       "    .dataframe tbody tr th {\n",
       "        vertical-align: top;\n",
       "    }\n",
       "\n",
       "    .dataframe thead th {\n",
       "        text-align: right;\n",
       "    }\n",
       "</style>\n",
       "<table border=\"1\" class=\"dataframe\">\n",
       "  <thead>\n",
       "    <tr style=\"text-align: right;\">\n",
       "      <th></th>\n",
       "      <th>United States Prices</th>\n",
       "      <th>Last</th>\n",
       "      <th>Previous</th>\n",
       "      <th>Highest</th>\n",
       "      <th>Lowest</th>\n",
       "      <th>Unit</th>\n",
       "      <th>Unnamed: 6</th>\n",
       "    </tr>\n",
       "  </thead>\n",
       "  <tbody>\n",
       "    <tr>\n",
       "      <th>0</th>\n",
       "      <td>Inflation Rate</td>\n",
       "      <td>0.60</td>\n",
       "      <td>0.10</td>\n",
       "      <td>23.70</td>\n",
       "      <td>-15.80</td>\n",
       "      <td>percent</td>\n",
       "      <td>[+]</td>\n",
       "    </tr>\n",
       "    <tr>\n",
       "      <th>2</th>\n",
       "      <td>Consumer Price Index CPI</td>\n",
       "      <td>257.21</td>\n",
       "      <td>255.77</td>\n",
       "      <td>259.05</td>\n",
       "      <td>23.51</td>\n",
       "      <td>points</td>\n",
       "      <td>[+]</td>\n",
       "    </tr>\n",
       "    <tr>\n",
       "      <th>8</th>\n",
       "      <td>Export Prices</td>\n",
       "      <td>120.50</td>\n",
       "      <td>118.80</td>\n",
       "      <td>135.30</td>\n",
       "      <td>82.40</td>\n",
       "      <td>points</td>\n",
       "      <td>[+]</td>\n",
       "    </tr>\n",
       "    <tr>\n",
       "      <th>9</th>\n",
       "      <td>Import Prices</td>\n",
       "      <td>120.80</td>\n",
       "      <td>119.10</td>\n",
       "      <td>147.50</td>\n",
       "      <td>75.00</td>\n",
       "      <td>points</td>\n",
       "      <td>[+]</td>\n",
       "    </tr>\n",
       "    <tr>\n",
       "      <th>15</th>\n",
       "      <td>Inflation Expectations</td>\n",
       "      <td>2.68</td>\n",
       "      <td>3.00</td>\n",
       "      <td>3.40</td>\n",
       "      <td>2.33</td>\n",
       "      <td>percent</td>\n",
       "      <td>[+]</td>\n",
       "    </tr>\n",
       "  </tbody>\n",
       "</table>\n",
       "</div>"
      ],
      "text/plain": [
       "        United States Prices    Last  Previous  Highest  Lowest     Unit  \\\n",
       "0             Inflation Rate    0.60      0.10    23.70  -15.80  percent   \n",
       "2   Consumer Price Index CPI  257.21    255.77   259.05   23.51   points   \n",
       "8              Export Prices  120.50    118.80   135.30   82.40   points   \n",
       "9              Import Prices  120.80    119.10   147.50   75.00   points   \n",
       "15    Inflation Expectations    2.68      3.00     3.40    2.33  percent   \n",
       "\n",
       "   Unnamed: 6  \n",
       "0         [+]  \n",
       "2         [+]  \n",
       "8         [+]  \n",
       "9         [+]  \n",
       "15        [+]  "
      ]
     },
     "execution_count": 307,
     "metadata": {},
     "output_type": "execute_result"
    }
   ],
   "source": [
    "# United States\n",
    "\n",
    "table_us_gdp = pd.DataFrame(data_list[0][1])\n",
    "\n",
    "table_us_price = pd.DataFrame(data_list[2][1])\n",
    "\n",
    "\n",
    "table_us_gdp = drop_rows_gdp(table_us_gdp)\n",
    "\n",
    "table_us_price = drop_rows_price(table_us_price) \n",
    "\n",
    "table_us_price"
   ]
  },
  {
   "cell_type": "code",
   "execution_count": 239,
   "metadata": {},
   "outputs": [
    {
     "data": {
      "text/plain": [
       "0      39.50\n",
       "2     235.54\n",
       "8      52.90\n",
       "9      72.50\n",
       "15      1.07\n",
       "Name: difference, dtype: float64"
      ]
     },
     "execution_count": 239,
     "metadata": {},
     "output_type": "execute_result"
    }
   ],
   "source": [
    "diff(table_us_gdp)\n",
    "diff(table_us_price)\n"
   ]
  },
  {
   "cell_type": "code",
   "execution_count": 214,
   "metadata": {},
   "outputs": [
    {
     "data": {
      "text/plain": [
       "-0.29999999999999716"
      ]
     },
     "execution_count": 214,
     "metadata": {},
     "output_type": "execute_result"
    }
   ],
   "source": [
    "Balance_overseas = table_us_price.iloc[2][1] - table_us_price.iloc[3][1]\n",
    "Balance_overseas\n"
   ]
  },
  {
   "cell_type": "code",
   "execution_count": 250,
   "metadata": {},
   "outputs": [
    {
     "data": {
      "text/plain": [
       "0     23.10\n",
       "2      1.84\n",
       "8     14.80\n",
       "9     26.70\n",
       "15     0.72\n",
       "Name: Distance Max, dtype: float64"
      ]
     },
     "execution_count": 250,
     "metadata": {},
     "output_type": "execute_result"
    }
   ],
   "source": [
    "dist_max(table_us_gdp)\n",
    "dist_max(table_us_price)"
   ]
  },
  {
   "cell_type": "code",
   "execution_count": 278,
   "metadata": {},
   "outputs": [
    {
     "data": {
      "text/plain": [
       "21751.049787162414"
      ]
     },
     "execution_count": 278,
     "metadata": {},
     "output_type": "execute_result"
    }
   ],
   "source": [
    "GDP_1year = table_us_gdp.iloc[2][1] * (1 + (table_us_gdp.iloc[1][1]/100))\n",
    "GDP_5year = table_us_gdp.iloc[2][1] * (1 + (table_us_gdp.iloc[1][1]/100))**5\n",
    "GDP_10year = table_us_gdp.iloc[2][1] * (1 + (table_us_gdp.iloc[1][1]/100))**10\n"
   ]
  },
  {
   "cell_type": "code",
   "execution_count": 243,
   "metadata": {},
   "outputs": [],
   "source": [
    "# Canada\n",
    "\n",
    "table_canada_gdp = pd.DataFrame(data_list[3][1])\n",
    "\n",
    "table_canada_price = pd.DataFrame(data_list[5][1])\n",
    "\n",
    "table_canada_gdp = drop_rows_gdp(table_canada_gdp)\n",
    "\n",
    "table_canada_price = table_canada_price.drop([1,3,4,5,6,7,10,11,12,13,14], axis = 0)\n"
   ]
  },
  {
   "cell_type": "code",
   "execution_count": 308,
   "metadata": {},
   "outputs": [
    {
     "data": {
      "text/html": [
       "<div>\n",
       "<style scoped>\n",
       "    .dataframe tbody tr th:only-of-type {\n",
       "        vertical-align: middle;\n",
       "    }\n",
       "\n",
       "    .dataframe tbody tr th {\n",
       "        vertical-align: top;\n",
       "    }\n",
       "\n",
       "    .dataframe thead th {\n",
       "        text-align: right;\n",
       "    }\n",
       "</style>\n",
       "<table border=\"1\" class=\"dataframe\">\n",
       "  <thead>\n",
       "    <tr style=\"text-align: right;\">\n",
       "      <th></th>\n",
       "      <th>Canada Prices</th>\n",
       "      <th>Last</th>\n",
       "      <th>Previous</th>\n",
       "      <th>Highest</th>\n",
       "      <th>Lowest</th>\n",
       "      <th>Unit</th>\n",
       "      <th>Unnamed: 6</th>\n",
       "      <th>difference</th>\n",
       "      <th>Distance Max</th>\n",
       "    </tr>\n",
       "  </thead>\n",
       "  <tbody>\n",
       "    <tr>\n",
       "      <th>0</th>\n",
       "      <td>Inflation Rate</td>\n",
       "      <td>-0.4</td>\n",
       "      <td>-0.2</td>\n",
       "      <td>21.6</td>\n",
       "      <td>-17.8</td>\n",
       "      <td>percent</td>\n",
       "      <td>[+]</td>\n",
       "      <td>39.4</td>\n",
       "      <td>22.0</td>\n",
       "    </tr>\n",
       "    <tr>\n",
       "      <th>2</th>\n",
       "      <td>Consumer Price Index CPI</td>\n",
       "      <td>136.1</td>\n",
       "      <td>135.7</td>\n",
       "      <td>137.4</td>\n",
       "      <td>12.1</td>\n",
       "      <td>points</td>\n",
       "      <td>[+]</td>\n",
       "      <td>125.3</td>\n",
       "      <td>1.3</td>\n",
       "    </tr>\n",
       "    <tr>\n",
       "      <th>8</th>\n",
       "      <td>Export Prices</td>\n",
       "      <td>103.9</td>\n",
       "      <td>102.2</td>\n",
       "      <td>113.5</td>\n",
       "      <td>62.6</td>\n",
       "      <td>points</td>\n",
       "      <td>[+]</td>\n",
       "      <td>50.9</td>\n",
       "      <td>9.6</td>\n",
       "    </tr>\n",
       "    <tr>\n",
       "      <th>9</th>\n",
       "      <td>Import Prices</td>\n",
       "      <td>122.4</td>\n",
       "      <td>122.9</td>\n",
       "      <td>8964.0</td>\n",
       "      <td>75.9</td>\n",
       "      <td>points</td>\n",
       "      <td>[+]</td>\n",
       "      <td>8888.1</td>\n",
       "      <td>8841.6</td>\n",
       "    </tr>\n",
       "  </tbody>\n",
       "</table>\n",
       "</div>"
      ],
      "text/plain": [
       "              Canada Prices   Last  Previous  Highest  Lowest     Unit  \\\n",
       "0            Inflation Rate   -0.4      -0.2     21.6   -17.8  percent   \n",
       "2  Consumer Price Index CPI  136.1     135.7    137.4    12.1   points   \n",
       "8             Export Prices  103.9     102.2    113.5    62.6   points   \n",
       "9             Import Prices  122.4     122.9   8964.0    75.9   points   \n",
       "\n",
       "  Unnamed: 6  difference  Distance Max  \n",
       "0        [+]        39.4          22.0  \n",
       "2        [+]       125.3           1.3  \n",
       "8        [+]        50.9           9.6  \n",
       "9        [+]      8888.1        8841.6  "
      ]
     },
     "execution_count": 308,
     "metadata": {},
     "output_type": "execute_result"
    }
   ],
   "source": [
    "diff(table_canada_gdp)\n",
    "diff(table_canada_price)\n",
    "table_canada_price"
   ]
  },
  {
   "cell_type": "code",
   "execution_count": 246,
   "metadata": {},
   "outputs": [
    {
     "data": {
      "text/plain": [
       "-18.5"
      ]
     },
     "execution_count": 246,
     "metadata": {},
     "output_type": "execute_result"
    }
   ],
   "source": [
    "Balance_overseas = table_canada_price.iloc[2][1] - table_canada_price.iloc[3][1]\n",
    "Balance_overseas"
   ]
  },
  {
   "cell_type": "code",
   "execution_count": 251,
   "metadata": {},
   "outputs": [
    {
     "data": {
      "text/plain": [
       "0      22.0\n",
       "2       1.3\n",
       "8       9.6\n",
       "9    8841.6\n",
       "Name: Distance Max, dtype: float64"
      ]
     },
     "execution_count": 251,
     "metadata": {},
     "output_type": "execute_result"
    }
   ],
   "source": [
    "dist_max(table_canada_gdp)\n",
    "dist_max(table_canada_price)"
   ]
  },
  {
   "cell_type": "code",
   "execution_count": 284,
   "metadata": {},
   "outputs": [
    {
     "data": {
      "text/plain": [
       "1586.3310512783326"
      ]
     },
     "execution_count": 284,
     "metadata": {},
     "output_type": "execute_result"
    }
   ],
   "source": [
    "GDP_1year = table_canada_gdp.iloc[3][1] * (1 + (table_canada_gdp.iloc[1][1]/100))\n",
    "GDP_5year = table_canada_gdp.iloc[3][1] * (1 + (table_canada_gdp.iloc[1][1]/100))**5\n",
    "GDP_10year = table_canada_gdp.iloc[3][1] * (1 + (table_canada_gdp.iloc[1][1]/100))**10\n"
   ]
  },
  {
   "cell_type": "code",
   "execution_count": 309,
   "metadata": {},
   "outputs": [
    {
     "data": {
      "text/html": [
       "<div>\n",
       "<style scoped>\n",
       "    .dataframe tbody tr th:only-of-type {\n",
       "        vertical-align: middle;\n",
       "    }\n",
       "\n",
       "    .dataframe tbody tr th {\n",
       "        vertical-align: top;\n",
       "    }\n",
       "\n",
       "    .dataframe thead th {\n",
       "        text-align: right;\n",
       "    }\n",
       "</style>\n",
       "<table border=\"1\" class=\"dataframe\">\n",
       "  <thead>\n",
       "    <tr style=\"text-align: right;\">\n",
       "      <th></th>\n",
       "      <th>Switzerland Prices</th>\n",
       "      <th>Last</th>\n",
       "      <th>Previous</th>\n",
       "      <th>Highest</th>\n",
       "      <th>Lowest</th>\n",
       "      <th>Unit</th>\n",
       "      <th>Unnamed: 6</th>\n",
       "    </tr>\n",
       "  </thead>\n",
       "  <tbody>\n",
       "    <tr>\n",
       "      <th>0</th>\n",
       "      <td>Inflation Rate</td>\n",
       "      <td>-1.30</td>\n",
       "      <td>-1.30</td>\n",
       "      <td>11.92</td>\n",
       "      <td>-1.40</td>\n",
       "      <td>percent</td>\n",
       "      <td>[+]</td>\n",
       "    </tr>\n",
       "    <tr>\n",
       "      <th>2</th>\n",
       "      <td>Consumer Price Index CPI</td>\n",
       "      <td>101.37</td>\n",
       "      <td>101.34</td>\n",
       "      <td>103.56</td>\n",
       "      <td>21.17</td>\n",
       "      <td>points</td>\n",
       "      <td>[+]</td>\n",
       "    </tr>\n",
       "    <tr>\n",
       "      <th>8</th>\n",
       "      <td>Export Prices</td>\n",
       "      <td>96.50</td>\n",
       "      <td>97.20</td>\n",
       "      <td>112.10</td>\n",
       "      <td>96.50</td>\n",
       "      <td>points</td>\n",
       "      <td>[+]</td>\n",
       "    </tr>\n",
       "    <tr>\n",
       "      <th>9</th>\n",
       "      <td>Import Prices</td>\n",
       "      <td>96.65</td>\n",
       "      <td>97.62</td>\n",
       "      <td>137.29</td>\n",
       "      <td>74.64</td>\n",
       "      <td>points</td>\n",
       "      <td>[+]</td>\n",
       "    </tr>\n",
       "    <tr>\n",
       "      <th>11</th>\n",
       "      <td>Inflation Expectations</td>\n",
       "      <td>0.39</td>\n",
       "      <td>0.34</td>\n",
       "      <td>1.28</td>\n",
       "      <td>-1.33</td>\n",
       "      <td>percent</td>\n",
       "      <td>[+]</td>\n",
       "    </tr>\n",
       "  </tbody>\n",
       "</table>\n",
       "</div>"
      ],
      "text/plain": [
       "          Switzerland Prices    Last  Previous  Highest  Lowest     Unit  \\\n",
       "0             Inflation Rate   -1.30     -1.30    11.92   -1.40  percent   \n",
       "2   Consumer Price Index CPI  101.37    101.34   103.56   21.17   points   \n",
       "8              Export Prices   96.50     97.20   112.10   96.50   points   \n",
       "9              Import Prices   96.65     97.62   137.29   74.64   points   \n",
       "11    Inflation Expectations    0.39      0.34     1.28   -1.33  percent   \n",
       "\n",
       "   Unnamed: 6  \n",
       "0         [+]  \n",
       "2         [+]  \n",
       "8         [+]  \n",
       "9         [+]  \n",
       "11        [+]  "
      ]
     },
     "execution_count": 309,
     "metadata": {},
     "output_type": "execute_result"
    }
   ],
   "source": [
    "# Switzerland\n",
    "\n",
    "table_switzerland_gdp = pd.DataFrame(data_list[6][1])\n",
    "\n",
    "table_switzerland_price = pd.DataFrame(data_list[8][1])\n",
    "\n",
    "table_switzerland_gdp = table_switzerland_gdp.drop([4,6,7], axis = 0, inplace = False) \n",
    "table_switzerland_price = table_switzerland_price.drop([1,3,4,5,6,7,10,12,13,14,15], axis=0)\n",
    "table_switzerland_price"
   ]
  },
  {
   "cell_type": "code",
   "execution_count": 200,
   "metadata": {},
   "outputs": [
    {
     "data": {
      "text/plain": [
       "0     13.32\n",
       "2     82.39\n",
       "8     15.60\n",
       "9     62.65\n",
       "11     2.61\n",
       "Name: difference, dtype: float64"
      ]
     },
     "execution_count": 200,
     "metadata": {},
     "output_type": "execute_result"
    }
   ],
   "source": [
    "diff(table_switzerland_gdp)\n",
    "diff(table_switzerland_price)\n"
   ]
  },
  {
   "cell_type": "code",
   "execution_count": 236,
   "metadata": {},
   "outputs": [
    {
     "data": {
      "text/plain": [
       "-0.15000000000000568"
      ]
     },
     "execution_count": 236,
     "metadata": {},
     "output_type": "execute_result"
    }
   ],
   "source": [
    "Balance_overseas = table_switzerland_price.iloc[2][1] - table_switzerland_price.iloc[3][1]\n",
    "Balance_overseas\n"
   ]
  },
  {
   "cell_type": "code",
   "execution_count": 252,
   "metadata": {},
   "outputs": [
    {
     "data": {
      "text/plain": [
       "0     13.22\n",
       "2      2.19\n",
       "8     15.60\n",
       "9     40.64\n",
       "11     0.89\n",
       "Name: Distance Max, dtype: float64"
      ]
     },
     "execution_count": 252,
     "metadata": {},
     "output_type": "execute_result"
    }
   ],
   "source": [
    "dist_max(table_switzerland_gdp)\n",
    "dist_max(table_switzerland_price)"
   ]
  },
  {
   "cell_type": "code",
   "execution_count": 289,
   "metadata": {},
   "outputs": [
    {
     "data": {
      "text/plain": [
       "616.8453152521814"
      ]
     },
     "execution_count": 289,
     "metadata": {},
     "output_type": "execute_result"
    }
   ],
   "source": [
    "GDP_1year = table_switzerland_gdp.iloc[2][1] * (1 + (table_switzerland_gdp.iloc[1][1]/100))\n",
    "GDP_5year = table_switzerland_gdp.iloc[2][1] * (1 + (table_switzerland_gdp.iloc[1][1]/100))**5\n",
    "GDP_10year = table_switzerland_gdp.iloc[2][1] * (1 + (table_switzerland_gdp.iloc[1][1]/100))**10\n",
    "GDP_10year"
   ]
  },
  {
   "cell_type": "code",
   "execution_count": 167,
   "metadata": {},
   "outputs": [
    {
     "data": {
      "text/html": [
       "<div>\n",
       "<style scoped>\n",
       "    .dataframe tbody tr th:only-of-type {\n",
       "        vertical-align: middle;\n",
       "    }\n",
       "\n",
       "    .dataframe tbody tr th {\n",
       "        vertical-align: top;\n",
       "    }\n",
       "\n",
       "    .dataframe thead th {\n",
       "        text-align: right;\n",
       "    }\n",
       "</style>\n",
       "<table border=\"1\" class=\"dataframe\">\n",
       "  <thead>\n",
       "    <tr style=\"text-align: right;\">\n",
       "      <th></th>\n",
       "      <th>Japan Prices</th>\n",
       "      <th>Last</th>\n",
       "      <th>Previous</th>\n",
       "      <th>Highest</th>\n",
       "      <th>Lowest</th>\n",
       "      <th>Unit</th>\n",
       "      <th>Unnamed: 6</th>\n",
       "    </tr>\n",
       "  </thead>\n",
       "  <tbody>\n",
       "    <tr>\n",
       "      <th>0</th>\n",
       "      <td>Inflation Rate</td>\n",
       "      <td>0.1</td>\n",
       "      <td>0.1</td>\n",
       "      <td>24.9</td>\n",
       "      <td>-2.5</td>\n",
       "      <td>percent</td>\n",
       "      <td>[+]</td>\n",
       "    </tr>\n",
       "    <tr>\n",
       "      <th>2</th>\n",
       "      <td>Consumer Price Index CPI</td>\n",
       "      <td>101.8</td>\n",
       "      <td>101.9</td>\n",
       "      <td>102.3</td>\n",
       "      <td>17.4</td>\n",
       "      <td>points</td>\n",
       "      <td>[+]</td>\n",
       "    </tr>\n",
       "    <tr>\n",
       "      <th>7</th>\n",
       "      <td>Export Prices</td>\n",
       "      <td>89.0</td>\n",
       "      <td>88.3</td>\n",
       "      <td>207.3</td>\n",
       "      <td>84.1</td>\n",
       "      <td>points</td>\n",
       "      <td>[+]</td>\n",
       "    </tr>\n",
       "    <tr>\n",
       "      <th>8</th>\n",
       "      <td>Import Prices</td>\n",
       "      <td>80.2</td>\n",
       "      <td>79.8</td>\n",
       "      <td>190.4</td>\n",
       "      <td>45.9</td>\n",
       "      <td>points</td>\n",
       "      <td>[+]</td>\n",
       "    </tr>\n",
       "  </tbody>\n",
       "</table>\n",
       "</div>"
      ],
      "text/plain": [
       "               Japan Prices   Last  Previous  Highest  Lowest     Unit  \\\n",
       "0            Inflation Rate    0.1       0.1     24.9    -2.5  percent   \n",
       "2  Consumer Price Index CPI  101.8     101.9    102.3    17.4   points   \n",
       "7             Export Prices   89.0      88.3    207.3    84.1   points   \n",
       "8             Import Prices   80.2      79.8    190.4    45.9   points   \n",
       "\n",
       "  Unnamed: 6  \n",
       "0        [+]  \n",
       "2        [+]  \n",
       "7        [+]  \n",
       "8        [+]  "
      ]
     },
     "execution_count": 167,
     "metadata": {},
     "output_type": "execute_result"
    }
   ],
   "source": [
    "# Japan\n",
    "\n",
    "table_japan_gdp = pd.DataFrame(data_list[9][1])\n",
    "\n",
    "table_japan_price = pd.DataFrame(data_list[11][1])\n",
    "\n",
    "table_japan_gdp = table_japan_gdp.drop([2,5,6,8,9,10,11,12,13,15,16,17], axis = 0)\n",
    "table_japan_price = table_japan_price.drop([1,3,4,5,6,9,10,11,12,13,14], axis = 0)\n"
   ]
  },
  {
   "cell_type": "code",
   "execution_count": 290,
   "metadata": {},
   "outputs": [
    {
     "data": {
      "text/html": [
       "<div>\n",
       "<style scoped>\n",
       "    .dataframe tbody tr th:only-of-type {\n",
       "        vertical-align: middle;\n",
       "    }\n",
       "\n",
       "    .dataframe tbody tr th {\n",
       "        vertical-align: top;\n",
       "    }\n",
       "\n",
       "    .dataframe thead th {\n",
       "        text-align: right;\n",
       "    }\n",
       "</style>\n",
       "<table border=\"1\" class=\"dataframe\">\n",
       "  <thead>\n",
       "    <tr style=\"text-align: right;\">\n",
       "      <th></th>\n",
       "      <th>Japan GDP</th>\n",
       "      <th>Last</th>\n",
       "      <th>Previous</th>\n",
       "      <th>Highest</th>\n",
       "      <th>Lowest</th>\n",
       "      <th>Unit</th>\n",
       "      <th>Unnamed: 6</th>\n",
       "      <th>difference</th>\n",
       "      <th>Distance Max</th>\n",
       "    </tr>\n",
       "  </thead>\n",
       "  <tbody>\n",
       "    <tr>\n",
       "      <th>0</th>\n",
       "      <td>GDP Growth Rate</td>\n",
       "      <td>-0.60</td>\n",
       "      <td>-1.90</td>\n",
       "      <td>3.20</td>\n",
       "      <td>-4.80</td>\n",
       "      <td>percent</td>\n",
       "      <td>[+]</td>\n",
       "      <td>8.0</td>\n",
       "      <td>3.80</td>\n",
       "    </tr>\n",
       "    <tr>\n",
       "      <th>1</th>\n",
       "      <td>GDP Annual Growth Rate</td>\n",
       "      <td>-1.70</td>\n",
       "      <td>-0.70</td>\n",
       "      <td>9.40</td>\n",
       "      <td>-8.80</td>\n",
       "      <td>percent</td>\n",
       "      <td>[+]</td>\n",
       "      <td>18.2</td>\n",
       "      <td>11.10</td>\n",
       "    </tr>\n",
       "    <tr>\n",
       "      <th>3</th>\n",
       "      <td>GDP</td>\n",
       "      <td>5081.77</td>\n",
       "      <td>4954.81</td>\n",
       "      <td>6203.21</td>\n",
       "      <td>44.31</td>\n",
       "      <td>USD Billion</td>\n",
       "      <td>[+]</td>\n",
       "      <td>6158.9</td>\n",
       "      <td>1121.44</td>\n",
       "    </tr>\n",
       "    <tr>\n",
       "      <th>4</th>\n",
       "      <td>GDP Constant Prices</td>\n",
       "      <td>526425.80</td>\n",
       "      <td>529417.90</td>\n",
       "      <td>539432.90</td>\n",
       "      <td>255945.60</td>\n",
       "      <td>JPY Billion</td>\n",
       "      <td>[+]</td>\n",
       "      <td>283487.3</td>\n",
       "      <td>13007.10</td>\n",
       "    </tr>\n",
       "    <tr>\n",
       "      <th>7</th>\n",
       "      <td>GDP per capita</td>\n",
       "      <td>49187.80</td>\n",
       "      <td>48766.10</td>\n",
       "      <td>49187.80</td>\n",
       "      <td>8607.70</td>\n",
       "      <td>USD</td>\n",
       "      <td>[+]</td>\n",
       "      <td>40580.1</td>\n",
       "      <td>0.00</td>\n",
       "    </tr>\n",
       "    <tr>\n",
       "      <th>14</th>\n",
       "      <td>GDP From Services</td>\n",
       "      <td>21744.70</td>\n",
       "      <td>21980.90</td>\n",
       "      <td>26170.30</td>\n",
       "      <td>21744.70</td>\n",
       "      <td>JPY Billion</td>\n",
       "      <td>[+]</td>\n",
       "      <td>4425.6</td>\n",
       "      <td>4425.60</td>\n",
       "    </tr>\n",
       "  </tbody>\n",
       "</table>\n",
       "</div>"
      ],
      "text/plain": [
       "                 Japan GDP       Last   Previous    Highest     Lowest  \\\n",
       "0          GDP Growth Rate      -0.60      -1.90       3.20      -4.80   \n",
       "1   GDP Annual Growth Rate      -1.70      -0.70       9.40      -8.80   \n",
       "3                      GDP    5081.77    4954.81    6203.21      44.31   \n",
       "4      GDP Constant Prices  526425.80  529417.90  539432.90  255945.60   \n",
       "7           GDP per capita   49187.80   48766.10   49187.80    8607.70   \n",
       "14       GDP From Services   21744.70   21980.90   26170.30   21744.70   \n",
       "\n",
       "           Unit Unnamed: 6  difference  Distance Max  \n",
       "0       percent        [+]         8.0          3.80  \n",
       "1       percent        [+]        18.2         11.10  \n",
       "3   USD Billion        [+]      6158.9       1121.44  \n",
       "4   JPY Billion        [+]    283487.3      13007.10  \n",
       "7           USD        [+]     40580.1          0.00  \n",
       "14  JPY Billion        [+]      4425.6       4425.60  "
      ]
     },
     "execution_count": 290,
     "metadata": {},
     "output_type": "execute_result"
    }
   ],
   "source": [
    "diff(table_japan_gdp)\n",
    "diff(table_japan_price)\n",
    "table_japan_gdp"
   ]
  },
  {
   "cell_type": "code",
   "execution_count": 237,
   "metadata": {},
   "outputs": [
    {
     "data": {
      "text/plain": [
       "8.799999999999997"
      ]
     },
     "execution_count": 237,
     "metadata": {},
     "output_type": "execute_result"
    }
   ],
   "source": [
    "Balance_overseas = table_japan_price.iloc[2][1] - table_japan_price.iloc[3][1]\n",
    "Balance_overseas"
   ]
  },
  {
   "cell_type": "code",
   "execution_count": 253,
   "metadata": {},
   "outputs": [
    {
     "data": {
      "text/plain": [
       "0     24.8\n",
       "2      0.5\n",
       "7    118.3\n",
       "8    110.2\n",
       "Name: Distance Max, dtype: float64"
      ]
     },
     "execution_count": 253,
     "metadata": {},
     "output_type": "execute_result"
    }
   ],
   "source": [
    "dist_max(table_japan_gdp)\n",
    "dist_max(table_japan_price)"
   ]
  },
  {
   "cell_type": "code",
   "execution_count": 293,
   "metadata": {},
   "outputs": [
    {
     "data": {
      "text/plain": [
       "4281.048849009196"
      ]
     },
     "execution_count": 293,
     "metadata": {},
     "output_type": "execute_result"
    }
   ],
   "source": [
    "GDP_1year = table_japan_gdp.iloc[2][1] * (1 + (table_japan_gdp.iloc[1][1]/100))\n",
    "GDP_5year = table_japan_gdp.iloc[2][1] * (1 + (table_japan_gdp.iloc[1][1]/100))**5\n",
    "GDP_10year = table_japan_gdp.iloc[2][1] * (1 + (table_japan_gdp.iloc[1][1]/100))**10\n",
    "GDP_10year\n"
   ]
  },
  {
   "cell_type": "code",
   "execution_count": 294,
   "metadata": {},
   "outputs": [
    {
     "data": {
      "text/html": [
       "<div>\n",
       "<style scoped>\n",
       "    .dataframe tbody tr th:only-of-type {\n",
       "        vertical-align: middle;\n",
       "    }\n",
       "\n",
       "    .dataframe tbody tr th {\n",
       "        vertical-align: top;\n",
       "    }\n",
       "\n",
       "    .dataframe thead th {\n",
       "        text-align: right;\n",
       "    }\n",
       "</style>\n",
       "<table border=\"1\" class=\"dataframe\">\n",
       "  <thead>\n",
       "    <tr style=\"text-align: right;\">\n",
       "      <th></th>\n",
       "      <th>United Kingdom GDP</th>\n",
       "      <th>Last</th>\n",
       "      <th>Previous</th>\n",
       "      <th>Highest</th>\n",
       "      <th>Lowest</th>\n",
       "      <th>Unit</th>\n",
       "      <th>Unnamed: 6</th>\n",
       "    </tr>\n",
       "  </thead>\n",
       "  <tbody>\n",
       "    <tr>\n",
       "      <th>0</th>\n",
       "      <td>GDP Growth Rate</td>\n",
       "      <td>-2.20</td>\n",
       "      <td>0.00</td>\n",
       "      <td>5.00</td>\n",
       "      <td>-2.70</td>\n",
       "      <td>percent</td>\n",
       "      <td>[+]</td>\n",
       "    </tr>\n",
       "    <tr>\n",
       "      <th>1</th>\n",
       "      <td>GDP Annual Growth Rate</td>\n",
       "      <td>-1.70</td>\n",
       "      <td>1.10</td>\n",
       "      <td>9.80</td>\n",
       "      <td>-5.80</td>\n",
       "      <td>percent</td>\n",
       "      <td>[+]</td>\n",
       "    </tr>\n",
       "    <tr>\n",
       "      <th>2</th>\n",
       "      <td>GDP</td>\n",
       "      <td>2827.11</td>\n",
       "      <td>2860.67</td>\n",
       "      <td>3100.88</td>\n",
       "      <td>73.23</td>\n",
       "      <td>USD Billion</td>\n",
       "      <td>[+]</td>\n",
       "    </tr>\n",
       "    <tr>\n",
       "      <th>3</th>\n",
       "      <td>GDP Constant Prices</td>\n",
       "      <td>512458.00</td>\n",
       "      <td>523917.00</td>\n",
       "      <td>523918.00</td>\n",
       "      <td>112194.00</td>\n",
       "      <td>GBP Million</td>\n",
       "      <td>[+]</td>\n",
       "    </tr>\n",
       "    <tr>\n",
       "      <th>6</th>\n",
       "      <td>GDP per capita</td>\n",
       "      <td>43688.40</td>\n",
       "      <td>43324.00</td>\n",
       "      <td>43688.40</td>\n",
       "      <td>13934.00</td>\n",
       "      <td>USD</td>\n",
       "      <td>[+]</td>\n",
       "    </tr>\n",
       "    <tr>\n",
       "      <th>14</th>\n",
       "      <td>GDP From Services</td>\n",
       "      <td>366378.00</td>\n",
       "      <td>375131.00</td>\n",
       "      <td>375131.00</td>\n",
       "      <td>182006.00</td>\n",
       "      <td>GBP Million</td>\n",
       "      <td>[+]</td>\n",
       "    </tr>\n",
       "  </tbody>\n",
       "</table>\n",
       "</div>"
      ],
      "text/plain": [
       "        United Kingdom GDP       Last   Previous    Highest     Lowest  \\\n",
       "0          GDP Growth Rate      -2.20       0.00       5.00      -2.70   \n",
       "1   GDP Annual Growth Rate      -1.70       1.10       9.80      -5.80   \n",
       "2                      GDP    2827.11    2860.67    3100.88      73.23   \n",
       "3      GDP Constant Prices  512458.00  523917.00  523918.00  112194.00   \n",
       "6           GDP per capita   43688.40   43324.00   43688.40   13934.00   \n",
       "14       GDP From Services  366378.00  375131.00  375131.00  182006.00   \n",
       "\n",
       "           Unit Unnamed: 6  \n",
       "0       percent        [+]  \n",
       "1       percent        [+]  \n",
       "2   USD Billion        [+]  \n",
       "3   GBP Million        [+]  \n",
       "6           USD        [+]  \n",
       "14  GBP Million        [+]  "
      ]
     },
     "execution_count": 294,
     "metadata": {},
     "output_type": "execute_result"
    }
   ],
   "source": [
    "# United Kingdom\n",
    "\n",
    "table_uk_gdp = pd.DataFrame(data_list[12][1])\n",
    "\n",
    "table_uk_price = pd.DataFrame(data_list[14][1])\n",
    "\n",
    "table_uk_gdp = table_uk_gdp.drop([4,5,7,8,9,10,11,12,13,15,16], axis = 0)\n",
    "table_uk_price = table_uk_price.drop([1,3,4,5,6,7,8,10,11,12,13,14,15], axis = 0)\n",
    "\n",
    "table_uk_gdp"
   ]
  },
  {
   "cell_type": "code",
   "execution_count": 186,
   "metadata": {},
   "outputs": [
    {
     "data": {
      "text/plain": [
       "0     8.6\n",
       "2    60.2\n",
       "9     3.8\n",
       "Name: difference, dtype: float64"
      ]
     },
     "execution_count": 186,
     "metadata": {},
     "output_type": "execute_result"
    }
   ],
   "source": [
    "diff(table_uk_gdp)\n",
    "diff(table_uk_price)"
   ]
  },
  {
   "cell_type": "code",
   "execution_count": null,
   "metadata": {},
   "outputs": [],
   "source": [
    "# nao tem export nem import"
   ]
  },
  {
   "cell_type": "code",
   "execution_count": 254,
   "metadata": {},
   "outputs": [
    {
     "data": {
      "text/plain": [
       "0    7.90\n",
       "2    0.02\n",
       "9    1.60\n",
       "Name: Distance Max, dtype: float64"
      ]
     },
     "execution_count": 254,
     "metadata": {},
     "output_type": "execute_result"
    }
   ],
   "source": [
    "dist_max(table_uk_gdp)\n",
    "dist_max(table_uk_price)"
   ]
  },
  {
   "cell_type": "code",
   "execution_count": 297,
   "metadata": {},
   "outputs": [
    {
     "data": {
      "text/plain": [
       "2381.649703060624"
      ]
     },
     "execution_count": 297,
     "metadata": {},
     "output_type": "execute_result"
    }
   ],
   "source": [
    "GDP_1year = table_uk_gdp.iloc[2][1] * (1 + (table_uk_gdp.iloc[1][1]/100))\n",
    "GDP_5year = table_uk_gdp.iloc[2][1] * (1 + (table_uk_gdp.iloc[1][1]/100))**5\n",
    "GDP_10year = table_uk_gdp.iloc[2][1] * (1 + (table_uk_gdp.iloc[1][1]/100))**10\n",
    "GDP_10year\n"
   ]
  },
  {
   "cell_type": "code",
   "execution_count": 298,
   "metadata": {},
   "outputs": [
    {
     "data": {
      "text/html": [
       "<div>\n",
       "<style scoped>\n",
       "    .dataframe tbody tr th:only-of-type {\n",
       "        vertical-align: middle;\n",
       "    }\n",
       "\n",
       "    .dataframe tbody tr th {\n",
       "        vertical-align: top;\n",
       "    }\n",
       "\n",
       "    .dataframe thead th {\n",
       "        text-align: right;\n",
       "    }\n",
       "</style>\n",
       "<table border=\"1\" class=\"dataframe\">\n",
       "  <thead>\n",
       "    <tr style=\"text-align: right;\">\n",
       "      <th></th>\n",
       "      <th>European Union GDP</th>\n",
       "      <th>Last</th>\n",
       "      <th>Previous</th>\n",
       "      <th>Highest</th>\n",
       "      <th>Lowest</th>\n",
       "      <th>Unit</th>\n",
       "      <th>Unnamed: 6</th>\n",
       "    </tr>\n",
       "  </thead>\n",
       "  <tbody>\n",
       "    <tr>\n",
       "      <th>0</th>\n",
       "      <td>GDP Annual Growth Rate</td>\n",
       "      <td>-2.7</td>\n",
       "      <td>1.30</td>\n",
       "      <td>4.60</td>\n",
       "      <td>-5.50</td>\n",
       "      <td>percent</td>\n",
       "      <td>[+]</td>\n",
       "    </tr>\n",
       "    <tr>\n",
       "      <th>1</th>\n",
       "      <td>GDP</td>\n",
       "      <td>19100.0</td>\n",
       "      <td>18748.57</td>\n",
       "      <td>19163.62</td>\n",
       "      <td>359.02</td>\n",
       "      <td>USD Billion</td>\n",
       "      <td>[+]</td>\n",
       "    </tr>\n",
       "    <tr>\n",
       "      <th>3</th>\n",
       "      <td>GDP Constant Prices</td>\n",
       "      <td>3697577.9</td>\n",
       "      <td>3692337.30</td>\n",
       "      <td>3697577.90</td>\n",
       "      <td>2404032.90</td>\n",
       "      <td>EUR Million</td>\n",
       "      <td>[+]</td>\n",
       "    </tr>\n",
       "    <tr>\n",
       "      <th>4</th>\n",
       "      <td>GDP Growth Rate</td>\n",
       "      <td>-3.5</td>\n",
       "      <td>0.20</td>\n",
       "      <td>1.30</td>\n",
       "      <td>-3.50</td>\n",
       "      <td>percent</td>\n",
       "      <td>[+]</td>\n",
       "    </tr>\n",
       "    <tr>\n",
       "      <th>5</th>\n",
       "      <td>GDP Per Capita</td>\n",
       "      <td>37417.0</td>\n",
       "      <td>36757.10</td>\n",
       "      <td>37417.00</td>\n",
       "      <td>10071.50</td>\n",
       "      <td>USD</td>\n",
       "      <td>[+]</td>\n",
       "    </tr>\n",
       "  </tbody>\n",
       "</table>\n",
       "</div>"
      ],
      "text/plain": [
       "       European Union GDP       Last    Previous     Highest      Lowest  \\\n",
       "0  GDP Annual Growth Rate       -2.7        1.30        4.60       -5.50   \n",
       "1                     GDP    19100.0    18748.57    19163.62      359.02   \n",
       "3     GDP Constant Prices  3697577.9  3692337.30  3697577.90  2404032.90   \n",
       "4         GDP Growth Rate       -3.5        0.20        1.30       -3.50   \n",
       "5          GDP Per Capita    37417.0    36757.10    37417.00    10071.50   \n",
       "\n",
       "          Unit Unnamed: 6  \n",
       "0      percent        [+]  \n",
       "1  USD Billion        [+]  \n",
       "3  EUR Million        [+]  \n",
       "4      percent        [+]  \n",
       "5          USD        [+]  "
      ]
     },
     "execution_count": 298,
     "metadata": {},
     "output_type": "execute_result"
    }
   ],
   "source": [
    "# European Union\n",
    "\n",
    "table_eu_gdp = pd.DataFrame(data_list[15][1])\n",
    "\n",
    "table_eu_price = pd.DataFrame(data_list[17][1])\n",
    "\n",
    "table_eu_gdp = table_eu_gdp.drop([2,6,7])\n",
    "table_eu_price = table_eu_price.drop([0,1,4,5,6,7,8,9,10,11], axis = 0)\n",
    "table_eu_gdp"
   ]
  },
  {
   "cell_type": "code",
   "execution_count": 187,
   "metadata": {},
   "outputs": [
    {
     "data": {
      "text/plain": [
       "2    46.08\n",
       "3     8.90\n",
       "Name: difference, dtype: float64"
      ]
     },
     "execution_count": 187,
     "metadata": {},
     "output_type": "execute_result"
    }
   ],
   "source": [
    "diff(table_eu_gdp)\n",
    "diff(table_eu_price)"
   ]
  },
  {
   "cell_type": "code",
   "execution_count": null,
   "metadata": {},
   "outputs": [],
   "source": [
    "# nao tem export nem import"
   ]
  },
  {
   "cell_type": "code",
   "execution_count": 255,
   "metadata": {},
   "outputs": [
    {
     "data": {
      "text/plain": [
       "2    0.7\n",
       "3    7.9\n",
       "Name: Distance Max, dtype: float64"
      ]
     },
     "execution_count": 255,
     "metadata": {},
     "output_type": "execute_result"
    }
   ],
   "source": [
    "dist_max(table_eu_gdp)\n",
    "dist_max(table_eu_price)"
   ]
  },
  {
   "cell_type": "code",
   "execution_count": 301,
   "metadata": {},
   "outputs": [
    {
     "data": {
      "text/plain": [
       "14526.52613990157"
      ]
     },
     "execution_count": 301,
     "metadata": {},
     "output_type": "execute_result"
    }
   ],
   "source": [
    "GDP_1year = table_eu_gdp.iloc[1][1] * (1 + (table_eu_gdp.iloc[0][1]/100))\n",
    "GDP_5year = table_eu_gdp.iloc[1][1] * (1 + (table_eu_gdp.iloc[0][1]/100))**5\n",
    "GDP_10year = table_eu_gdp.iloc[1][1] * (1 + (table_eu_gdp.iloc[0][1]/100))**10\n",
    "GDP_10year\n"
   ]
  },
  {
   "cell_type": "code",
   "execution_count": 302,
   "metadata": {},
   "outputs": [
    {
     "data": {
      "text/html": [
       "<div>\n",
       "<style scoped>\n",
       "    .dataframe tbody tr th:only-of-type {\n",
       "        vertical-align: middle;\n",
       "    }\n",
       "\n",
       "    .dataframe tbody tr th {\n",
       "        vertical-align: top;\n",
       "    }\n",
       "\n",
       "    .dataframe thead th {\n",
       "        text-align: right;\n",
       "    }\n",
       "</style>\n",
       "<table border=\"1\" class=\"dataframe\">\n",
       "  <thead>\n",
       "    <tr style=\"text-align: right;\">\n",
       "      <th></th>\n",
       "      <th>Sweden GDP</th>\n",
       "      <th>Last</th>\n",
       "      <th>Previous</th>\n",
       "      <th>Highest</th>\n",
       "      <th>Lowest</th>\n",
       "      <th>Unit</th>\n",
       "      <th>Unnamed: 6</th>\n",
       "    </tr>\n",
       "  </thead>\n",
       "  <tbody>\n",
       "    <tr>\n",
       "      <th>0</th>\n",
       "      <td>GDP Growth Rate</td>\n",
       "      <td>0.10</td>\n",
       "      <td>0.00</td>\n",
       "      <td>3.40</td>\n",
       "      <td>-3.80</td>\n",
       "      <td>percent</td>\n",
       "      <td>[+]</td>\n",
       "    </tr>\n",
       "    <tr>\n",
       "      <th>1</th>\n",
       "      <td>GDP Annual Growth Rate</td>\n",
       "      <td>0.40</td>\n",
       "      <td>0.50</td>\n",
       "      <td>7.50</td>\n",
       "      <td>-6.00</td>\n",
       "      <td>percent</td>\n",
       "      <td>[+]</td>\n",
       "    </tr>\n",
       "    <tr>\n",
       "      <th>2</th>\n",
       "      <td>GDP</td>\n",
       "      <td>530.83</td>\n",
       "      <td>555.46</td>\n",
       "      <td>586.84</td>\n",
       "      <td>15.82</td>\n",
       "      <td>USD Billion</td>\n",
       "      <td>[+]</td>\n",
       "    </tr>\n",
       "    <tr>\n",
       "      <th>3</th>\n",
       "      <td>GDP Constant Prices</td>\n",
       "      <td>1259853.00</td>\n",
       "      <td>1258320.00</td>\n",
       "      <td>1259853.00</td>\n",
       "      <td>538572.00</td>\n",
       "      <td>SEK Million</td>\n",
       "      <td>[+]</td>\n",
       "    </tr>\n",
       "    <tr>\n",
       "      <th>6</th>\n",
       "      <td>GDP per capita</td>\n",
       "      <td>57975.10</td>\n",
       "      <td>57911.20</td>\n",
       "      <td>57975.10</td>\n",
       "      <td>18050.10</td>\n",
       "      <td>USD</td>\n",
       "      <td>[+]</td>\n",
       "    </tr>\n",
       "    <tr>\n",
       "      <th>13</th>\n",
       "      <td>GDP From Services</td>\n",
       "      <td>582269.00</td>\n",
       "      <td>581254.00</td>\n",
       "      <td>582269.00</td>\n",
       "      <td>186474.00</td>\n",
       "      <td>SEK Million</td>\n",
       "      <td>[+]</td>\n",
       "    </tr>\n",
       "  </tbody>\n",
       "</table>\n",
       "</div>"
      ],
      "text/plain": [
       "                Sweden GDP        Last    Previous     Highest     Lowest  \\\n",
       "0          GDP Growth Rate        0.10        0.00        3.40      -3.80   \n",
       "1   GDP Annual Growth Rate        0.40        0.50        7.50      -6.00   \n",
       "2                      GDP      530.83      555.46      586.84      15.82   \n",
       "3      GDP Constant Prices  1259853.00  1258320.00  1259853.00  538572.00   \n",
       "6           GDP per capita    57975.10    57911.20    57975.10   18050.10   \n",
       "13       GDP From Services   582269.00   581254.00   582269.00  186474.00   \n",
       "\n",
       "           Unit Unnamed: 6  \n",
       "0       percent        [+]  \n",
       "1       percent        [+]  \n",
       "2   USD Billion        [+]  \n",
       "3   SEK Million        [+]  \n",
       "6           USD        [+]  \n",
       "13  SEK Million        [+]  "
      ]
     },
     "execution_count": 302,
     "metadata": {},
     "output_type": "execute_result"
    }
   ],
   "source": [
    "# Sweden\n",
    "\n",
    "table_sweden_gdp = pd.DataFrame(data_list[18][1])\n",
    "\n",
    "table_sweden_price = pd.DataFrame(data_list[20][1])\n",
    "\n",
    "table_sweden_gdp = drop_rows_gdp(table_sweden_gdp)\n",
    "table_sweden_price = table_sweden_price.drop([1,3,4,5,6,7,10,12,13,14], axis = 0)\n",
    "table_sweden_gdp\n"
   ]
  },
  {
   "cell_type": "code",
   "execution_count": 188,
   "metadata": {},
   "outputs": [
    {
     "data": {
      "text/plain": [
       "0      17.10\n",
       "2     309.98\n",
       "8      50.20\n",
       "9      64.60\n",
       "11      7.80\n",
       "Name: difference, dtype: float64"
      ]
     },
     "execution_count": 188,
     "metadata": {},
     "output_type": "execute_result"
    }
   ],
   "source": [
    "diff(table_sweden_gdp)\n",
    "diff(table_sweden_price)"
   ]
  },
  {
   "cell_type": "code",
   "execution_count": 238,
   "metadata": {},
   "outputs": [
    {
     "data": {
      "text/plain": [
       "2.799999999999997"
      ]
     },
     "execution_count": 238,
     "metadata": {},
     "output_type": "execute_result"
    }
   ],
   "source": [
    "Balance_overseas = table_sweden_price.iloc[2][1] - table_sweden_price.iloc[3][1]\n",
    "Balance_overseas"
   ]
  },
  {
   "cell_type": "code",
   "execution_count": 256,
   "metadata": {},
   "outputs": [
    {
     "data": {
      "text/plain": [
       "0     14.80\n",
       "2      0.84\n",
       "8     15.60\n",
       "9     19.30\n",
       "11     4.30\n",
       "Name: Distance Max, dtype: float64"
      ]
     },
     "execution_count": 256,
     "metadata": {},
     "output_type": "execute_result"
    }
   ],
   "source": [
    "dist_max(table_sweden_gdp)\n",
    "dist_max(table_sweden_price)"
   ]
  },
  {
   "cell_type": "code",
   "execution_count": 305,
   "metadata": {},
   "outputs": [
    {
     "data": {
      "text/plain": [
       "552.449503049258"
      ]
     },
     "execution_count": 305,
     "metadata": {},
     "output_type": "execute_result"
    }
   ],
   "source": [
    "GDP_1year = table_sweden_gdp.iloc[2][1] * (1 + (table_sweden_gdp.iloc[1][1]/100))\n",
    "GDP_5year = table_sweden_gdp.iloc[2][1] * (1 + (table_sweden_gdp.iloc[1][1]/100))**5\n",
    "GDP_10year = table_sweden_gdp.iloc[2][1] * (1 + (table_sweden_gdp.iloc[1][1]/100))**10\n",
    "GDP_10year\n"
   ]
  }
 ],
 "metadata": {
  "kernelspec": {
   "display_name": "Python 3",
   "language": "python",
   "name": "python3"
  },
  "language_info": {
   "codemirror_mode": {
    "name": "ipython",
    "version": 3
   },
   "file_extension": ".py",
   "mimetype": "text/x-python",
   "name": "python",
   "nbconvert_exporter": "python",
   "pygments_lexer": "ipython3",
   "version": "3.7.6"
  }
 },
 "nbformat": 4,
 "nbformat_minor": 4
}
