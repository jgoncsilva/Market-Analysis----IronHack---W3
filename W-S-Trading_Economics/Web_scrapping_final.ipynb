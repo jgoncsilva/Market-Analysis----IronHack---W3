{
 "cells": [
  {
   "cell_type": "code",
   "execution_count": 2,
   "metadata": {},
   "outputs": [],
   "source": [
    "import numpy as np\n",
    "import pandas as pd\n",
    "import matplotlib.pyplot as plt\n",
    "import seaborn as sns"
   ]
  },
  {
   "cell_type": "code",
   "execution_count": 3,
   "metadata": {},
   "outputs": [],
   "source": [
    "def drop_rows_gdp(table_gdp):\n",
    "    return table_gdp.drop([4,5,7,8,9,10,11,12,14,15,16], axis = 0, inplace = False)\n",
    "\n",
    "def drop_rows_price(table_price):\n",
    "    return table_price.drop([1,3,4,5,6,7,10,11,12,13,14,16,17], axis = 0, inplace = False)\n",
    "\n",
    "def diff(table):\n",
    "    table['difference'] = table['Highest'] - table['Lowest']\n",
    "    return table['difference']\n",
    "\n",
    "def dist_max(table):\n",
    "    table['Distance Max'] = table['Highest'] - table['Last']\n",
    "    return table['Distance Max']\n",
    "\n",
    "def gdp_1year(table):\n",
    "    table['GDP in 1 Year'] = table['GDP'] * (1 + table['GDP Annual Growth Rate'])\n",
    "    return table['GDP in 1 Year']\n",
    "\n",
    "def gdp_5year(table):\n",
    "    table['GDP in 5 Year'] = table['GDP'] * (1 + table['GDP Annual Growth Rate'])**5\n",
    "    return table['GDP in 5 Year']\n",
    "\n",
    "def gdp_10year(table):\n",
    "    table['GDP in 10 Year'] = table['GDP'] * (1 + table['GDP Annual Growth Rate'])**10\n",
    "    return table['GDP in 10 Year']"
   ]
  },
  {
   "cell_type": "code",
   "execution_count": 4,
   "metadata": {},
   "outputs": [],
   "source": [
    "countries = ['united-states', 'Canada', 'Switzerland', 'Japan', 'united-kingdom', 'european-union', 'Sweden']\n",
    "\n",
    "indicators = ['gdp', 'inflation-rate', 'consumer-price-index-cpi']"
   ]
  },
  {
   "cell_type": "code",
   "execution_count": 5,
   "metadata": {},
   "outputs": [],
   "source": [
    "url = 'https://tradingeconomics.com/'"
   ]
  },
  {
   "cell_type": "code",
   "execution_count": 6,
   "metadata": {},
   "outputs": [],
   "source": [
    "url_list = []\n",
    "\n",
    "# we're going inside each country and get the indicators that we need\n",
    "for country in countries:\n",
    "    for ind in indicators:\n",
    "        # we're appending the url's to a list so then we can loop them and get the graphs\n",
    "        url_list.append(\"https://tradingeconomics.com/\" + country + \"/\" + ind)\n",
    "\n",
    "data_list = []\n",
    "for x in url_list:\n",
    "    # append the read url to give us a list with the tables\n",
    "    data_list.append(pd.read_html(x))\n",
    "                     \n",
    "# data_list will give us a big list with a bunch of tables. In the next cells we will select the ones we want\n"
   ]
  },
  {
   "cell_type": "code",
   "execution_count": 94,
   "metadata": {},
   "outputs": [
    {
     "data": {
      "text/html": [
       "<div>\n",
       "<style scoped>\n",
       "    .dataframe tbody tr th:only-of-type {\n",
       "        vertical-align: middle;\n",
       "    }\n",
       "\n",
       "    .dataframe tbody tr th {\n",
       "        vertical-align: top;\n",
       "    }\n",
       "\n",
       "    .dataframe thead th {\n",
       "        text-align: right;\n",
       "    }\n",
       "</style>\n",
       "<table border=\"1\" class=\"dataframe\">\n",
       "  <thead>\n",
       "    <tr style=\"text-align: right;\">\n",
       "      <th></th>\n",
       "      <th>United States Prices</th>\n",
       "      <th>Last</th>\n",
       "      <th>Previous</th>\n",
       "      <th>Highest</th>\n",
       "      <th>Lowest</th>\n",
       "      <th>Unit</th>\n",
       "      <th>Unnamed: 6</th>\n",
       "    </tr>\n",
       "  </thead>\n",
       "  <tbody>\n",
       "    <tr>\n",
       "      <th>0</th>\n",
       "      <td>Inflation Rate</td>\n",
       "      <td>0.60</td>\n",
       "      <td>0.10</td>\n",
       "      <td>23.70</td>\n",
       "      <td>-15.80</td>\n",
       "      <td>percent</td>\n",
       "      <td>[+]</td>\n",
       "    </tr>\n",
       "    <tr>\n",
       "      <th>2</th>\n",
       "      <td>Consumer Price Index CPI</td>\n",
       "      <td>257.21</td>\n",
       "      <td>255.77</td>\n",
       "      <td>259.05</td>\n",
       "      <td>23.51</td>\n",
       "      <td>points</td>\n",
       "      <td>[+]</td>\n",
       "    </tr>\n",
       "    <tr>\n",
       "      <th>8</th>\n",
       "      <td>Export Prices</td>\n",
       "      <td>120.50</td>\n",
       "      <td>118.80</td>\n",
       "      <td>135.30</td>\n",
       "      <td>82.40</td>\n",
       "      <td>points</td>\n",
       "      <td>[+]</td>\n",
       "    </tr>\n",
       "    <tr>\n",
       "      <th>9</th>\n",
       "      <td>Import Prices</td>\n",
       "      <td>120.80</td>\n",
       "      <td>119.10</td>\n",
       "      <td>147.50</td>\n",
       "      <td>75.00</td>\n",
       "      <td>points</td>\n",
       "      <td>[+]</td>\n",
       "    </tr>\n",
       "    <tr>\n",
       "      <th>15</th>\n",
       "      <td>Inflation Expectations</td>\n",
       "      <td>2.68</td>\n",
       "      <td>3.00</td>\n",
       "      <td>3.40</td>\n",
       "      <td>2.33</td>\n",
       "      <td>percent</td>\n",
       "      <td>[+]</td>\n",
       "    </tr>\n",
       "  </tbody>\n",
       "</table>\n",
       "</div>"
      ],
      "text/plain": [
       "        United States Prices    Last  Previous  Highest  Lowest     Unit  \\\n",
       "0             Inflation Rate    0.60      0.10    23.70  -15.80  percent   \n",
       "2   Consumer Price Index CPI  257.21    255.77   259.05   23.51   points   \n",
       "8              Export Prices  120.50    118.80   135.30   82.40   points   \n",
       "9              Import Prices  120.80    119.10   147.50   75.00   points   \n",
       "15    Inflation Expectations    2.68      3.00     3.40    2.33  percent   \n",
       "\n",
       "   Unnamed: 6  \n",
       "0         [+]  \n",
       "2         [+]  \n",
       "8         [+]  \n",
       "9         [+]  \n",
       "15        [+]  "
      ]
     },
     "execution_count": 94,
     "metadata": {},
     "output_type": "execute_result"
    }
   ],
   "source": [
    "# United States\n",
    "\n",
    "table_us_gdp = pd.DataFrame(data_list[0][1])\n",
    "\n",
    "table_us_price = pd.DataFrame(data_list[2][1])\n",
    "\n",
    "\n",
    "table_us_gdp = drop_rows_gdp(table_us_gdp)\n",
    "\n",
    "table_us_price = drop_rows_price(table_us_price) \n",
    "\n",
    "table_us_price"
   ]
  },
  {
   "cell_type": "code",
   "execution_count": 8,
   "metadata": {},
   "outputs": [
    {
     "data": {
      "text/plain": [
       "0      39.50\n",
       "2     235.54\n",
       "8      52.90\n",
       "9      72.50\n",
       "15      1.07\n",
       "Name: difference, dtype: float64"
      ]
     },
     "execution_count": 8,
     "metadata": {},
     "output_type": "execute_result"
    }
   ],
   "source": [
    "diff(table_us_gdp)\n",
    "diff(table_us_price)\n"
   ]
  },
  {
   "cell_type": "code",
   "execution_count": 9,
   "metadata": {},
   "outputs": [
    {
     "data": {
      "text/plain": [
       "-0.29999999999999716"
      ]
     },
     "execution_count": 9,
     "metadata": {},
     "output_type": "execute_result"
    }
   ],
   "source": [
    "Balance_overseas = table_us_price.iloc[2][1] - table_us_price.iloc[3][1]\n",
    "Balance_overseas\n"
   ]
  },
  {
   "cell_type": "code",
   "execution_count": 10,
   "metadata": {},
   "outputs": [
    {
     "data": {
      "text/plain": [
       "0     23.10\n",
       "2      1.84\n",
       "8     14.80\n",
       "9     26.70\n",
       "15     0.72\n",
       "Name: Distance Max, dtype: float64"
      ]
     },
     "execution_count": 10,
     "metadata": {},
     "output_type": "execute_result"
    }
   ],
   "source": [
    "dist_max(table_us_gdp)\n",
    "dist_max(table_us_price)"
   ]
  },
  {
   "cell_type": "code",
   "execution_count": 78,
   "metadata": {},
   "outputs": [
    {
     "data": {
      "text/plain": [
       "22079.279010048584"
      ]
     },
     "execution_count": 78,
     "metadata": {},
     "output_type": "execute_result"
    }
   ],
   "source": [
    "GDP_1year = table_us_gdp.iloc[2][1] * (1 + (table_us_gdp.iloc[1][1]/100))\n",
    "GDP_5year = table_us_gdp.iloc[2][1] * (1 + (table_us_gdp.iloc[1][1]/100))**5\n",
    "GDP_10year = table_us_gdp.iloc[2][1] * (1 + (table_us_gdp.iloc[1][1]/100))**10\n",
    "GDP_10year"
   ]
  },
  {
   "cell_type": "code",
   "execution_count": 75,
   "metadata": {},
   "outputs": [
    {
     "data": {
      "text/html": [
       "<div>\n",
       "<style scoped>\n",
       "    .dataframe tbody tr th:only-of-type {\n",
       "        vertical-align: middle;\n",
       "    }\n",
       "\n",
       "    .dataframe tbody tr th {\n",
       "        vertical-align: top;\n",
       "    }\n",
       "\n",
       "    .dataframe thead th {\n",
       "        text-align: right;\n",
       "    }\n",
       "</style>\n",
       "<table border=\"1\" class=\"dataframe\">\n",
       "  <thead>\n",
       "    <tr style=\"text-align: right;\">\n",
       "      <th></th>\n",
       "      <th>United States GDP</th>\n",
       "      <th>Last</th>\n",
       "      <th>Previous</th>\n",
       "      <th>Highest</th>\n",
       "      <th>Lowest</th>\n",
       "      <th>Unit</th>\n",
       "      <th>Unnamed: 6</th>\n",
       "      <th>difference</th>\n",
       "      <th>Distance Max</th>\n",
       "    </tr>\n",
       "    <tr>\n",
       "      <th>United States GDP</th>\n",
       "      <th></th>\n",
       "      <th></th>\n",
       "      <th></th>\n",
       "      <th></th>\n",
       "      <th></th>\n",
       "      <th></th>\n",
       "      <th></th>\n",
       "      <th></th>\n",
       "      <th></th>\n",
       "    </tr>\n",
       "  </thead>\n",
       "  <tbody>\n",
       "    <tr>\n",
       "      <th>GDP Growth Rate</th>\n",
       "      <td>GDP Growth Rate</td>\n",
       "      <td>-5.0</td>\n",
       "      <td>2.10</td>\n",
       "      <td>16.70</td>\n",
       "      <td>-10.00</td>\n",
       "      <td>percent</td>\n",
       "      <td>[+]</td>\n",
       "      <td>26.7</td>\n",
       "      <td>21.70</td>\n",
       "    </tr>\n",
       "    <tr>\n",
       "      <th>GDP Annual Growth Rate</th>\n",
       "      <td>GDP Annual Growth Rate</td>\n",
       "      <td>0.3</td>\n",
       "      <td>2.30</td>\n",
       "      <td>13.40</td>\n",
       "      <td>-3.90</td>\n",
       "      <td>percent</td>\n",
       "      <td>[+]</td>\n",
       "      <td>17.3</td>\n",
       "      <td>13.10</td>\n",
       "    </tr>\n",
       "    <tr>\n",
       "      <th>GDP</th>\n",
       "      <td>GDP</td>\n",
       "      <td>21427.7</td>\n",
       "      <td>20580.22</td>\n",
       "      <td>21427.70</td>\n",
       "      <td>543.30</td>\n",
       "      <td>USD Billion</td>\n",
       "      <td>[+]</td>\n",
       "      <td>20884.4</td>\n",
       "      <td>0.00</td>\n",
       "    </tr>\n",
       "    <tr>\n",
       "      <th>GDP Constant Prices</th>\n",
       "      <td>GDP Constant Prices</td>\n",
       "      <td>18977.4</td>\n",
       "      <td>19221.97</td>\n",
       "      <td>19221.97</td>\n",
       "      <td>2184.87</td>\n",
       "      <td>USD Billion</td>\n",
       "      <td>[+]</td>\n",
       "      <td>17037.1</td>\n",
       "      <td>244.57</td>\n",
       "    </tr>\n",
       "    <tr>\n",
       "      <th>GDP per capita</th>\n",
       "      <td>GDP per capita</td>\n",
       "      <td>55809.0</td>\n",
       "      <td>54795.50</td>\n",
       "      <td>55809.00</td>\n",
       "      <td>17562.60</td>\n",
       "      <td>USD</td>\n",
       "      <td>[+]</td>\n",
       "      <td>38246.4</td>\n",
       "      <td>0.00</td>\n",
       "    </tr>\n",
       "    <tr>\n",
       "      <th>GDP From Services</th>\n",
       "      <td>GDP From Services</td>\n",
       "      <td>13083.8</td>\n",
       "      <td>13286.30</td>\n",
       "      <td>13286.30</td>\n",
       "      <td>9734.70</td>\n",
       "      <td>USD Billion</td>\n",
       "      <td>[+]</td>\n",
       "      <td>3551.6</td>\n",
       "      <td>202.50</td>\n",
       "    </tr>\n",
       "  </tbody>\n",
       "</table>\n",
       "</div>"
      ],
      "text/plain": [
       "                             United States GDP     Last  Previous   Highest  \\\n",
       "United States GDP                                                             \n",
       "GDP Growth Rate                GDP Growth Rate     -5.0      2.10     16.70   \n",
       "GDP Annual Growth Rate  GDP Annual Growth Rate      0.3      2.30     13.40   \n",
       "GDP                                        GDP  21427.7  20580.22  21427.70   \n",
       "GDP Constant Prices        GDP Constant Prices  18977.4  19221.97  19221.97   \n",
       "GDP per capita                  GDP per capita  55809.0  54795.50  55809.00   \n",
       "GDP From Services            GDP From Services  13083.8  13286.30  13286.30   \n",
       "\n",
       "                          Lowest         Unit Unnamed: 6  difference  \\\n",
       "United States GDP                                                      \n",
       "GDP Growth Rate           -10.00      percent        [+]        26.7   \n",
       "GDP Annual Growth Rate     -3.90      percent        [+]        17.3   \n",
       "GDP                       543.30  USD Billion        [+]     20884.4   \n",
       "GDP Constant Prices      2184.87  USD Billion        [+]     17037.1   \n",
       "GDP per capita          17562.60          USD        [+]     38246.4   \n",
       "GDP From Services        9734.70  USD Billion        [+]      3551.6   \n",
       "\n",
       "                        Distance Max  \n",
       "United States GDP                     \n",
       "GDP Growth Rate                21.70  \n",
       "GDP Annual Growth Rate         13.10  \n",
       "GDP                             0.00  \n",
       "GDP Constant Prices           244.57  \n",
       "GDP per capita                  0.00  \n",
       "GDP From Services             202.50  "
      ]
     },
     "execution_count": 75,
     "metadata": {},
     "output_type": "execute_result"
    }
   ],
   "source": [
    "table_us_gdp.set_index(table_us_gdp['United States GDP'])"
   ]
  },
  {
   "cell_type": "code",
   "execution_count": 12,
   "metadata": {},
   "outputs": [],
   "source": [
    "# Canada\n",
    "\n",
    "table_canada_gdp = pd.DataFrame(data_list[3][1])\n",
    "\n",
    "table_canada_price = pd.DataFrame(data_list[5][1])\n",
    "\n",
    "table_canada_gdp = drop_rows_gdp(table_canada_gdp)\n",
    "\n",
    "table_canada_price = table_canada_price.drop([1,3,4,5,6,7,10,11,12,13,14], axis = 0)\n"
   ]
  },
  {
   "cell_type": "code",
   "execution_count": 96,
   "metadata": {},
   "outputs": [
    {
     "data": {
      "text/html": [
       "<div>\n",
       "<style scoped>\n",
       "    .dataframe tbody tr th:only-of-type {\n",
       "        vertical-align: middle;\n",
       "    }\n",
       "\n",
       "    .dataframe tbody tr th {\n",
       "        vertical-align: top;\n",
       "    }\n",
       "\n",
       "    .dataframe thead th {\n",
       "        text-align: right;\n",
       "    }\n",
       "</style>\n",
       "<table border=\"1\" class=\"dataframe\">\n",
       "  <thead>\n",
       "    <tr style=\"text-align: right;\">\n",
       "      <th></th>\n",
       "      <th>Canada Prices</th>\n",
       "      <th>Last</th>\n",
       "      <th>Previous</th>\n",
       "      <th>Highest</th>\n",
       "      <th>Lowest</th>\n",
       "      <th>Unit</th>\n",
       "      <th>Unnamed: 6</th>\n",
       "      <th>difference</th>\n",
       "      <th>Distance Max</th>\n",
       "    </tr>\n",
       "  </thead>\n",
       "  <tbody>\n",
       "    <tr>\n",
       "      <th>0</th>\n",
       "      <td>Inflation Rate</td>\n",
       "      <td>-0.4</td>\n",
       "      <td>-0.2</td>\n",
       "      <td>21.6</td>\n",
       "      <td>-17.8</td>\n",
       "      <td>percent</td>\n",
       "      <td>[+]</td>\n",
       "      <td>39.4</td>\n",
       "      <td>22.0</td>\n",
       "    </tr>\n",
       "    <tr>\n",
       "      <th>2</th>\n",
       "      <td>Consumer Price Index CPI</td>\n",
       "      <td>136.1</td>\n",
       "      <td>135.7</td>\n",
       "      <td>137.4</td>\n",
       "      <td>12.1</td>\n",
       "      <td>points</td>\n",
       "      <td>[+]</td>\n",
       "      <td>125.3</td>\n",
       "      <td>1.3</td>\n",
       "    </tr>\n",
       "    <tr>\n",
       "      <th>8</th>\n",
       "      <td>Export Prices</td>\n",
       "      <td>103.9</td>\n",
       "      <td>102.2</td>\n",
       "      <td>113.5</td>\n",
       "      <td>62.6</td>\n",
       "      <td>points</td>\n",
       "      <td>[+]</td>\n",
       "      <td>50.9</td>\n",
       "      <td>9.6</td>\n",
       "    </tr>\n",
       "    <tr>\n",
       "      <th>9</th>\n",
       "      <td>Import Prices</td>\n",
       "      <td>122.4</td>\n",
       "      <td>122.9</td>\n",
       "      <td>8964.0</td>\n",
       "      <td>75.9</td>\n",
       "      <td>points</td>\n",
       "      <td>[+]</td>\n",
       "      <td>8888.1</td>\n",
       "      <td>8841.6</td>\n",
       "    </tr>\n",
       "  </tbody>\n",
       "</table>\n",
       "</div>"
      ],
      "text/plain": [
       "              Canada Prices   Last  Previous  Highest  Lowest     Unit  \\\n",
       "0            Inflation Rate   -0.4      -0.2     21.6   -17.8  percent   \n",
       "2  Consumer Price Index CPI  136.1     135.7    137.4    12.1   points   \n",
       "8             Export Prices  103.9     102.2    113.5    62.6   points   \n",
       "9             Import Prices  122.4     122.9   8964.0    75.9   points   \n",
       "\n",
       "  Unnamed: 6  difference  Distance Max  \n",
       "0        [+]        39.4          22.0  \n",
       "2        [+]       125.3           1.3  \n",
       "8        [+]        50.9           9.6  \n",
       "9        [+]      8888.1        8841.6  "
      ]
     },
     "execution_count": 96,
     "metadata": {},
     "output_type": "execute_result"
    }
   ],
   "source": [
    "diff(table_canada_gdp)\n",
    "diff(table_canada_price)\n",
    "table_canada_price"
   ]
  },
  {
   "cell_type": "code",
   "execution_count": 14,
   "metadata": {},
   "outputs": [
    {
     "data": {
      "text/plain": [
       "-18.5"
      ]
     },
     "execution_count": 14,
     "metadata": {},
     "output_type": "execute_result"
    }
   ],
   "source": [
    "Balance_overseas = table_canada_price.iloc[2][1] - table_canada_price.iloc[3][1]\n",
    "Balance_overseas"
   ]
  },
  {
   "cell_type": "code",
   "execution_count": 15,
   "metadata": {},
   "outputs": [
    {
     "data": {
      "text/plain": [
       "0      22.0\n",
       "2       1.3\n",
       "8       9.6\n",
       "9    8841.6\n",
       "Name: Distance Max, dtype: float64"
      ]
     },
     "execution_count": 15,
     "metadata": {},
     "output_type": "execute_result"
    }
   ],
   "source": [
    "dist_max(table_canada_gdp)\n",
    "dist_max(table_canada_price)"
   ]
  },
  {
   "cell_type": "code",
   "execution_count": 16,
   "metadata": {},
   "outputs": [],
   "source": [
    "GDP_1year = table_canada_gdp.iloc[3][1] * (1 + (table_canada_gdp.iloc[1][1]/100))\n",
    "GDP_5year = table_canada_gdp.iloc[3][1] * (1 + (table_canada_gdp.iloc[1][1]/100))**5\n",
    "GDP_10year = table_canada_gdp.iloc[3][1] * (1 + (table_canada_gdp.iloc[1][1]/100))**10\n"
   ]
  },
  {
   "cell_type": "code",
   "execution_count": 77,
   "metadata": {},
   "outputs": [
    {
     "data": {
      "text/html": [
       "<div>\n",
       "<style scoped>\n",
       "    .dataframe tbody tr th:only-of-type {\n",
       "        vertical-align: middle;\n",
       "    }\n",
       "\n",
       "    .dataframe tbody tr th {\n",
       "        vertical-align: top;\n",
       "    }\n",
       "\n",
       "    .dataframe thead th {\n",
       "        text-align: right;\n",
       "    }\n",
       "</style>\n",
       "<table border=\"1\" class=\"dataframe\">\n",
       "  <thead>\n",
       "    <tr style=\"text-align: right;\">\n",
       "      <th></th>\n",
       "      <th>Canada GDP</th>\n",
       "      <th>Last</th>\n",
       "      <th>Previous</th>\n",
       "      <th>Highest</th>\n",
       "      <th>Lowest</th>\n",
       "      <th>Unit</th>\n",
       "      <th>Unnamed: 6</th>\n",
       "      <th>difference</th>\n",
       "      <th>Distance Max</th>\n",
       "    </tr>\n",
       "    <tr>\n",
       "      <th>Canada GDP</th>\n",
       "      <th></th>\n",
       "      <th></th>\n",
       "      <th></th>\n",
       "      <th></th>\n",
       "      <th></th>\n",
       "      <th></th>\n",
       "      <th></th>\n",
       "      <th></th>\n",
       "      <th></th>\n",
       "    </tr>\n",
       "  </thead>\n",
       "  <tbody>\n",
       "    <tr>\n",
       "      <th>GDP Growth Rate</th>\n",
       "      <td>GDP Growth Rate</td>\n",
       "      <td>-2.10</td>\n",
       "      <td>0.10</td>\n",
       "      <td>3.10</td>\n",
       "      <td>-2.30</td>\n",
       "      <td>percent</td>\n",
       "      <td>[+]</td>\n",
       "      <td>5.40</td>\n",
       "      <td>5.20</td>\n",
       "    </tr>\n",
       "    <tr>\n",
       "      <th>GDP Annual Growth Rate</th>\n",
       "      <td>GDP Annual Growth Rate</td>\n",
       "      <td>-0.90</td>\n",
       "      <td>1.50</td>\n",
       "      <td>9.30</td>\n",
       "      <td>-4.10</td>\n",
       "      <td>percent</td>\n",
       "      <td>[+]</td>\n",
       "      <td>13.40</td>\n",
       "      <td>10.20</td>\n",
       "    </tr>\n",
       "    <tr>\n",
       "      <th>GDP Growth Annualized</th>\n",
       "      <td>GDP Growth Annualized</td>\n",
       "      <td>-8.20</td>\n",
       "      <td>0.60</td>\n",
       "      <td>12.60</td>\n",
       "      <td>-9.00</td>\n",
       "      <td>percent</td>\n",
       "      <td>[+]</td>\n",
       "      <td>21.60</td>\n",
       "      <td>20.80</td>\n",
       "    </tr>\n",
       "    <tr>\n",
       "      <th>GDP</th>\n",
       "      <td>GDP</td>\n",
       "      <td>1736.43</td>\n",
       "      <td>1716.26</td>\n",
       "      <td>1847.21</td>\n",
       "      <td>40.46</td>\n",
       "      <td>USD Billion</td>\n",
       "      <td>[+]</td>\n",
       "      <td>1806.75</td>\n",
       "      <td>110.78</td>\n",
       "    </tr>\n",
       "    <tr>\n",
       "      <th>Gross Fixed Capital Formation</th>\n",
       "      <td>Gross Fixed Capital Formation</td>\n",
       "      <td>438786.00</td>\n",
       "      <td>439158.00</td>\n",
       "      <td>473052.00</td>\n",
       "      <td>57964.00</td>\n",
       "      <td>CAD Million</td>\n",
       "      <td>[+]</td>\n",
       "      <td>415088.00</td>\n",
       "      <td>34266.00</td>\n",
       "    </tr>\n",
       "    <tr>\n",
       "      <th>GDP From Public Administration</th>\n",
       "      <td>GDP From Public Administration</td>\n",
       "      <td>122920.00</td>\n",
       "      <td>128957.00</td>\n",
       "      <td>135089.00</td>\n",
       "      <td>82547.00</td>\n",
       "      <td>CAD Million</td>\n",
       "      <td>[+]</td>\n",
       "      <td>52542.00</td>\n",
       "      <td>12169.00</td>\n",
       "    </tr>\n",
       "    <tr>\n",
       "      <th>NaN</th>\n",
       "      <td>NaN</td>\n",
       "      <td>NaN</td>\n",
       "      <td>NaN</td>\n",
       "      <td>NaN</td>\n",
       "      <td>NaN</td>\n",
       "      <td>NaN</td>\n",
       "      <td>NaN</td>\n",
       "      <td>NaN</td>\n",
       "      <td>NaN</td>\n",
       "    </tr>\n",
       "  </tbody>\n",
       "</table>\n",
       "</div>"
      ],
      "text/plain": [
       "                                                    Canada GDP       Last  \\\n",
       "Canada GDP                                                                  \n",
       "GDP Growth Rate                                GDP Growth Rate      -2.10   \n",
       "GDP Annual Growth Rate                  GDP Annual Growth Rate      -0.90   \n",
       "GDP Growth Annualized                    GDP Growth Annualized      -8.20   \n",
       "GDP                                                        GDP    1736.43   \n",
       "Gross Fixed Capital Formation    Gross Fixed Capital Formation  438786.00   \n",
       "GDP From Public Administration  GDP From Public Administration  122920.00   \n",
       "NaN                                                        NaN        NaN   \n",
       "\n",
       "                                 Previous    Highest    Lowest         Unit  \\\n",
       "Canada GDP                                                                    \n",
       "GDP Growth Rate                      0.10       3.10     -2.30      percent   \n",
       "GDP Annual Growth Rate               1.50       9.30     -4.10      percent   \n",
       "GDP Growth Annualized                0.60      12.60     -9.00      percent   \n",
       "GDP                               1716.26    1847.21     40.46  USD Billion   \n",
       "Gross Fixed Capital Formation   439158.00  473052.00  57964.00  CAD Million   \n",
       "GDP From Public Administration  128957.00  135089.00  82547.00  CAD Million   \n",
       "NaN                                   NaN        NaN       NaN          NaN   \n",
       "\n",
       "                               Unnamed: 6  difference  Distance Max  \n",
       "Canada GDP                                                           \n",
       "GDP Growth Rate                       [+]        5.40          5.20  \n",
       "GDP Annual Growth Rate                [+]       13.40         10.20  \n",
       "GDP Growth Annualized                 [+]       21.60         20.80  \n",
       "GDP                                   [+]     1806.75        110.78  \n",
       "Gross Fixed Capital Formation         [+]   415088.00      34266.00  \n",
       "GDP From Public Administration        [+]    52542.00      12169.00  \n",
       "NaN                                   NaN         NaN           NaN  "
      ]
     },
     "execution_count": 77,
     "metadata": {},
     "output_type": "execute_result"
    }
   ],
   "source": [
    "table_canada_gdp.set_index(table_canada_gdp['Canada GDP'])"
   ]
  },
  {
   "cell_type": "code",
   "execution_count": 95,
   "metadata": {},
   "outputs": [
    {
     "data": {
      "text/html": [
       "<div>\n",
       "<style scoped>\n",
       "    .dataframe tbody tr th:only-of-type {\n",
       "        vertical-align: middle;\n",
       "    }\n",
       "\n",
       "    .dataframe tbody tr th {\n",
       "        vertical-align: top;\n",
       "    }\n",
       "\n",
       "    .dataframe thead th {\n",
       "        text-align: right;\n",
       "    }\n",
       "</style>\n",
       "<table border=\"1\" class=\"dataframe\">\n",
       "  <thead>\n",
       "    <tr style=\"text-align: right;\">\n",
       "      <th></th>\n",
       "      <th>Switzerland Prices</th>\n",
       "      <th>Last</th>\n",
       "      <th>Previous</th>\n",
       "      <th>Highest</th>\n",
       "      <th>Lowest</th>\n",
       "      <th>Unit</th>\n",
       "      <th>Unnamed: 6</th>\n",
       "    </tr>\n",
       "  </thead>\n",
       "  <tbody>\n",
       "    <tr>\n",
       "      <th>0</th>\n",
       "      <td>Inflation Rate</td>\n",
       "      <td>-1.30</td>\n",
       "      <td>-1.30</td>\n",
       "      <td>11.92</td>\n",
       "      <td>-1.40</td>\n",
       "      <td>percent</td>\n",
       "      <td>[+]</td>\n",
       "    </tr>\n",
       "    <tr>\n",
       "      <th>2</th>\n",
       "      <td>Consumer Price Index CPI</td>\n",
       "      <td>101.37</td>\n",
       "      <td>101.34</td>\n",
       "      <td>103.56</td>\n",
       "      <td>21.17</td>\n",
       "      <td>points</td>\n",
       "      <td>[+]</td>\n",
       "    </tr>\n",
       "    <tr>\n",
       "      <th>8</th>\n",
       "      <td>Export Prices</td>\n",
       "      <td>96.50</td>\n",
       "      <td>97.20</td>\n",
       "      <td>112.10</td>\n",
       "      <td>96.50</td>\n",
       "      <td>points</td>\n",
       "      <td>[+]</td>\n",
       "    </tr>\n",
       "    <tr>\n",
       "      <th>9</th>\n",
       "      <td>Import Prices</td>\n",
       "      <td>96.65</td>\n",
       "      <td>97.62</td>\n",
       "      <td>137.29</td>\n",
       "      <td>74.64</td>\n",
       "      <td>points</td>\n",
       "      <td>[+]</td>\n",
       "    </tr>\n",
       "    <tr>\n",
       "      <th>11</th>\n",
       "      <td>Inflation Expectations</td>\n",
       "      <td>0.39</td>\n",
       "      <td>0.34</td>\n",
       "      <td>1.28</td>\n",
       "      <td>-1.33</td>\n",
       "      <td>percent</td>\n",
       "      <td>[+]</td>\n",
       "    </tr>\n",
       "  </tbody>\n",
       "</table>\n",
       "</div>"
      ],
      "text/plain": [
       "          Switzerland Prices    Last  Previous  Highest  Lowest     Unit  \\\n",
       "0             Inflation Rate   -1.30     -1.30    11.92   -1.40  percent   \n",
       "2   Consumer Price Index CPI  101.37    101.34   103.56   21.17   points   \n",
       "8              Export Prices   96.50     97.20   112.10   96.50   points   \n",
       "9              Import Prices   96.65     97.62   137.29   74.64   points   \n",
       "11    Inflation Expectations    0.39      0.34     1.28   -1.33  percent   \n",
       "\n",
       "   Unnamed: 6  \n",
       "0         [+]  \n",
       "2         [+]  \n",
       "8         [+]  \n",
       "9         [+]  \n",
       "11        [+]  "
      ]
     },
     "execution_count": 95,
     "metadata": {},
     "output_type": "execute_result"
    }
   ],
   "source": [
    "# Switzerland\n",
    "\n",
    "table_switzerland_gdp = pd.DataFrame(data_list[6][1])\n",
    "\n",
    "table_switzerland_price = pd.DataFrame(data_list[8][1])\n",
    "\n",
    "table_switzerland_gdp = table_switzerland_gdp.drop([4,6,7], axis = 0, inplace = False) \n",
    "table_switzerland_price = table_switzerland_price.drop([1,3,4,5,6,7,10,12,13,14,15], axis=0)\n",
    "table_switzerland_price"
   ]
  },
  {
   "cell_type": "code",
   "execution_count": 18,
   "metadata": {},
   "outputs": [
    {
     "data": {
      "text/plain": [
       "0     13.32\n",
       "2     82.39\n",
       "8     15.60\n",
       "9     62.65\n",
       "11     2.61\n",
       "Name: difference, dtype: float64"
      ]
     },
     "execution_count": 18,
     "metadata": {},
     "output_type": "execute_result"
    }
   ],
   "source": [
    "diff(table_switzerland_gdp)\n",
    "diff(table_switzerland_price)\n"
   ]
  },
  {
   "cell_type": "code",
   "execution_count": 19,
   "metadata": {},
   "outputs": [
    {
     "data": {
      "text/plain": [
       "-0.15000000000000568"
      ]
     },
     "execution_count": 19,
     "metadata": {},
     "output_type": "execute_result"
    }
   ],
   "source": [
    "Balance_overseas = table_switzerland_price.iloc[2][1] - table_switzerland_price.iloc[3][1]\n",
    "Balance_overseas\n"
   ]
  },
  {
   "cell_type": "code",
   "execution_count": 20,
   "metadata": {},
   "outputs": [
    {
     "data": {
      "text/plain": [
       "0     13.22\n",
       "2      2.19\n",
       "8     15.60\n",
       "9     40.64\n",
       "11     0.89\n",
       "Name: Distance Max, dtype: float64"
      ]
     },
     "execution_count": 20,
     "metadata": {},
     "output_type": "execute_result"
    }
   ],
   "source": [
    "dist_max(table_switzerland_gdp)\n",
    "dist_max(table_switzerland_price)"
   ]
  },
  {
   "cell_type": "code",
   "execution_count": 21,
   "metadata": {},
   "outputs": [
    {
     "data": {
      "text/plain": [
       "616.8453152521814"
      ]
     },
     "execution_count": 21,
     "metadata": {},
     "output_type": "execute_result"
    }
   ],
   "source": [
    "GDP_1year = table_switzerland_gdp.iloc[2][1] * (1 + (table_switzerland_gdp.iloc[1][1]/100))\n",
    "GDP_5year = table_switzerland_gdp.iloc[2][1] * (1 + (table_switzerland_gdp.iloc[1][1]/100))**5\n",
    "GDP_10year = table_switzerland_gdp.iloc[2][1] * (1 + (table_switzerland_gdp.iloc[1][1]/100))**10\n",
    "GDP_10year"
   ]
  },
  {
   "cell_type": "code",
   "execution_count": 22,
   "metadata": {},
   "outputs": [],
   "source": [
    "# Japan\n",
    "\n",
    "table_japan_gdp = pd.DataFrame(data_list[9][1])\n",
    "\n",
    "table_japan_price = pd.DataFrame(data_list[11][1])\n",
    "\n",
    "table_japan_gdp = table_japan_gdp.drop([2,5,6,8,9,10,11,12,13,15,16,17], axis = 0)\n",
    "table_japan_price = table_japan_price.drop([1,3,4,5,6,9,10,11,12,13,14], axis = 0)\n"
   ]
  },
  {
   "cell_type": "code",
   "execution_count": 97,
   "metadata": {},
   "outputs": [
    {
     "data": {
      "text/html": [
       "<div>\n",
       "<style scoped>\n",
       "    .dataframe tbody tr th:only-of-type {\n",
       "        vertical-align: middle;\n",
       "    }\n",
       "\n",
       "    .dataframe tbody tr th {\n",
       "        vertical-align: top;\n",
       "    }\n",
       "\n",
       "    .dataframe thead th {\n",
       "        text-align: right;\n",
       "    }\n",
       "</style>\n",
       "<table border=\"1\" class=\"dataframe\">\n",
       "  <thead>\n",
       "    <tr style=\"text-align: right;\">\n",
       "      <th></th>\n",
       "      <th>Japan Prices</th>\n",
       "      <th>Last</th>\n",
       "      <th>Previous</th>\n",
       "      <th>Highest</th>\n",
       "      <th>Lowest</th>\n",
       "      <th>Unit</th>\n",
       "      <th>Unnamed: 6</th>\n",
       "      <th>difference</th>\n",
       "      <th>Distance Max</th>\n",
       "    </tr>\n",
       "  </thead>\n",
       "  <tbody>\n",
       "    <tr>\n",
       "      <th>0</th>\n",
       "      <td>Inflation Rate</td>\n",
       "      <td>0.1</td>\n",
       "      <td>0.1</td>\n",
       "      <td>24.9</td>\n",
       "      <td>-2.5</td>\n",
       "      <td>percent</td>\n",
       "      <td>[+]</td>\n",
       "      <td>27.4</td>\n",
       "      <td>24.8</td>\n",
       "    </tr>\n",
       "    <tr>\n",
       "      <th>2</th>\n",
       "      <td>Consumer Price Index CPI</td>\n",
       "      <td>101.8</td>\n",
       "      <td>101.9</td>\n",
       "      <td>102.3</td>\n",
       "      <td>17.4</td>\n",
       "      <td>points</td>\n",
       "      <td>[+]</td>\n",
       "      <td>84.9</td>\n",
       "      <td>0.5</td>\n",
       "    </tr>\n",
       "    <tr>\n",
       "      <th>7</th>\n",
       "      <td>Export Prices</td>\n",
       "      <td>89.0</td>\n",
       "      <td>88.3</td>\n",
       "      <td>207.3</td>\n",
       "      <td>84.1</td>\n",
       "      <td>points</td>\n",
       "      <td>[+]</td>\n",
       "      <td>123.2</td>\n",
       "      <td>118.3</td>\n",
       "    </tr>\n",
       "    <tr>\n",
       "      <th>8</th>\n",
       "      <td>Import Prices</td>\n",
       "      <td>80.2</td>\n",
       "      <td>79.8</td>\n",
       "      <td>190.4</td>\n",
       "      <td>45.9</td>\n",
       "      <td>points</td>\n",
       "      <td>[+]</td>\n",
       "      <td>144.5</td>\n",
       "      <td>110.2</td>\n",
       "    </tr>\n",
       "  </tbody>\n",
       "</table>\n",
       "</div>"
      ],
      "text/plain": [
       "               Japan Prices   Last  Previous  Highest  Lowest     Unit  \\\n",
       "0            Inflation Rate    0.1       0.1     24.9    -2.5  percent   \n",
       "2  Consumer Price Index CPI  101.8     101.9    102.3    17.4   points   \n",
       "7             Export Prices   89.0      88.3    207.3    84.1   points   \n",
       "8             Import Prices   80.2      79.8    190.4    45.9   points   \n",
       "\n",
       "  Unnamed: 6  difference  Distance Max  \n",
       "0        [+]        27.4          24.8  \n",
       "2        [+]        84.9           0.5  \n",
       "7        [+]       123.2         118.3  \n",
       "8        [+]       144.5         110.2  "
      ]
     },
     "execution_count": 97,
     "metadata": {},
     "output_type": "execute_result"
    }
   ],
   "source": [
    "diff(table_japan_gdp)\n",
    "diff(table_japan_price)\n",
    "table_japan_price"
   ]
  },
  {
   "cell_type": "code",
   "execution_count": 24,
   "metadata": {},
   "outputs": [
    {
     "data": {
      "text/plain": [
       "8.799999999999997"
      ]
     },
     "execution_count": 24,
     "metadata": {},
     "output_type": "execute_result"
    }
   ],
   "source": [
    "Balance_overseas = table_japan_price.iloc[2][1] - table_japan_price.iloc[3][1]\n",
    "Balance_overseas"
   ]
  },
  {
   "cell_type": "code",
   "execution_count": 25,
   "metadata": {},
   "outputs": [
    {
     "data": {
      "text/plain": [
       "0     24.8\n",
       "2      0.5\n",
       "7    118.3\n",
       "8    110.2\n",
       "Name: Distance Max, dtype: float64"
      ]
     },
     "execution_count": 25,
     "metadata": {},
     "output_type": "execute_result"
    }
   ],
   "source": [
    "dist_max(table_japan_gdp)\n",
    "dist_max(table_japan_price)"
   ]
  },
  {
   "cell_type": "code",
   "execution_count": 26,
   "metadata": {},
   "outputs": [
    {
     "data": {
      "text/plain": [
       "4281.048849009196"
      ]
     },
     "execution_count": 26,
     "metadata": {},
     "output_type": "execute_result"
    }
   ],
   "source": [
    "GDP_1year = table_japan_gdp.iloc[2][1] * (1 + (table_japan_gdp.iloc[1][1]/100))\n",
    "GDP_5year = table_japan_gdp.iloc[2][1] * (1 + (table_japan_gdp.iloc[1][1]/100))**5\n",
    "GDP_10year = table_japan_gdp.iloc[2][1] * (1 + (table_japan_gdp.iloc[1][1]/100))**10\n",
    "GDP_10year\n"
   ]
  },
  {
   "cell_type": "code",
   "execution_count": 98,
   "metadata": {},
   "outputs": [
    {
     "data": {
      "text/html": [
       "<div>\n",
       "<style scoped>\n",
       "    .dataframe tbody tr th:only-of-type {\n",
       "        vertical-align: middle;\n",
       "    }\n",
       "\n",
       "    .dataframe tbody tr th {\n",
       "        vertical-align: top;\n",
       "    }\n",
       "\n",
       "    .dataframe thead th {\n",
       "        text-align: right;\n",
       "    }\n",
       "</style>\n",
       "<table border=\"1\" class=\"dataframe\">\n",
       "  <thead>\n",
       "    <tr style=\"text-align: right;\">\n",
       "      <th></th>\n",
       "      <th>United Kingdom Prices</th>\n",
       "      <th>Last</th>\n",
       "      <th>Previous</th>\n",
       "      <th>Highest</th>\n",
       "      <th>Lowest</th>\n",
       "      <th>Unit</th>\n",
       "      <th>Unnamed: 6</th>\n",
       "    </tr>\n",
       "  </thead>\n",
       "  <tbody>\n",
       "    <tr>\n",
       "      <th>0</th>\n",
       "      <td>Inflation Rate</td>\n",
       "      <td>0.60</td>\n",
       "      <td>0.50</td>\n",
       "      <td>8.5</td>\n",
       "      <td>-0.1</td>\n",
       "      <td>percent</td>\n",
       "      <td>[+]</td>\n",
       "    </tr>\n",
       "    <tr>\n",
       "      <th>2</th>\n",
       "      <td>Consumer Price Index CPI</td>\n",
       "      <td>108.58</td>\n",
       "      <td>108.47</td>\n",
       "      <td>108.6</td>\n",
       "      <td>48.4</td>\n",
       "      <td>points</td>\n",
       "      <td>[+]</td>\n",
       "    </tr>\n",
       "    <tr>\n",
       "      <th>9</th>\n",
       "      <td>Inflation Expectations</td>\n",
       "      <td>3.00</td>\n",
       "      <td>3.10</td>\n",
       "      <td>4.6</td>\n",
       "      <td>0.8</td>\n",
       "      <td>percent</td>\n",
       "      <td>[+]</td>\n",
       "    </tr>\n",
       "  </tbody>\n",
       "</table>\n",
       "</div>"
      ],
      "text/plain": [
       "      United Kingdom Prices    Last  Previous  Highest  Lowest     Unit  \\\n",
       "0            Inflation Rate    0.60      0.50      8.5    -0.1  percent   \n",
       "2  Consumer Price Index CPI  108.58    108.47    108.6    48.4   points   \n",
       "9    Inflation Expectations    3.00      3.10      4.6     0.8  percent   \n",
       "\n",
       "  Unnamed: 6  \n",
       "0        [+]  \n",
       "2        [+]  \n",
       "9        [+]  "
      ]
     },
     "execution_count": 98,
     "metadata": {},
     "output_type": "execute_result"
    }
   ],
   "source": [
    "# United Kingdom\n",
    "\n",
    "table_uk_gdp = pd.DataFrame(data_list[12][1])\n",
    "\n",
    "table_uk_price = pd.DataFrame(data_list[14][1])\n",
    "\n",
    "table_uk_gdp = table_uk_gdp.drop([4,5,7,8,9,10,11,12,13,15,16], axis = 0)\n",
    "table_uk_price = table_uk_price.drop([1,3,4,5,6,7,8,10,11,12,13,14,15], axis = 0)\n",
    "\n",
    "table_uk_price"
   ]
  },
  {
   "cell_type": "code",
   "execution_count": 28,
   "metadata": {},
   "outputs": [
    {
     "data": {
      "text/plain": [
       "0     8.6\n",
       "2    60.2\n",
       "9     3.8\n",
       "Name: difference, dtype: float64"
      ]
     },
     "execution_count": 28,
     "metadata": {},
     "output_type": "execute_result"
    }
   ],
   "source": [
    "diff(table_uk_gdp)\n",
    "diff(table_uk_price)"
   ]
  },
  {
   "cell_type": "code",
   "execution_count": 29,
   "metadata": {},
   "outputs": [],
   "source": [
    "# nao tem export nem import"
   ]
  },
  {
   "cell_type": "code",
   "execution_count": 30,
   "metadata": {},
   "outputs": [
    {
     "data": {
      "text/plain": [
       "0    7.90\n",
       "2    0.02\n",
       "9    1.60\n",
       "Name: Distance Max, dtype: float64"
      ]
     },
     "execution_count": 30,
     "metadata": {},
     "output_type": "execute_result"
    }
   ],
   "source": [
    "dist_max(table_uk_gdp)\n",
    "dist_max(table_uk_price)"
   ]
  },
  {
   "cell_type": "code",
   "execution_count": 31,
   "metadata": {},
   "outputs": [
    {
     "data": {
      "text/plain": [
       "2381.649703060624"
      ]
     },
     "execution_count": 31,
     "metadata": {},
     "output_type": "execute_result"
    }
   ],
   "source": [
    "GDP_1year = table_uk_gdp.iloc[2][1] * (1 + (table_uk_gdp.iloc[1][1]/100))\n",
    "GDP_5year = table_uk_gdp.iloc[2][1] * (1 + (table_uk_gdp.iloc[1][1]/100))**5\n",
    "GDP_10year = table_uk_gdp.iloc[2][1] * (1 + (table_uk_gdp.iloc[1][1]/100))**10\n",
    "GDP_10year\n"
   ]
  },
  {
   "cell_type": "code",
   "execution_count": 99,
   "metadata": {},
   "outputs": [
    {
     "data": {
      "text/html": [
       "<div>\n",
       "<style scoped>\n",
       "    .dataframe tbody tr th:only-of-type {\n",
       "        vertical-align: middle;\n",
       "    }\n",
       "\n",
       "    .dataframe tbody tr th {\n",
       "        vertical-align: top;\n",
       "    }\n",
       "\n",
       "    .dataframe thead th {\n",
       "        text-align: right;\n",
       "    }\n",
       "</style>\n",
       "<table border=\"1\" class=\"dataframe\">\n",
       "  <thead>\n",
       "    <tr style=\"text-align: right;\">\n",
       "      <th></th>\n",
       "      <th>European Union Prices</th>\n",
       "      <th>Last</th>\n",
       "      <th>Previous</th>\n",
       "      <th>Highest</th>\n",
       "      <th>Lowest</th>\n",
       "      <th>Unit</th>\n",
       "      <th>Unnamed: 6</th>\n",
       "    </tr>\n",
       "  </thead>\n",
       "  <tbody>\n",
       "    <tr>\n",
       "      <th>2</th>\n",
       "      <td>Consumer Price Index CPI</td>\n",
       "      <td>105.44</td>\n",
       "      <td>106.14</td>\n",
       "      <td>106.14</td>\n",
       "      <td>60.06</td>\n",
       "      <td>points</td>\n",
       "      <td>[+]</td>\n",
       "    </tr>\n",
       "    <tr>\n",
       "      <th>3</th>\n",
       "      <td>Inflation Rate</td>\n",
       "      <td>0.50</td>\n",
       "      <td>0.60</td>\n",
       "      <td>8.40</td>\n",
       "      <td>-0.50</td>\n",
       "      <td>percent</td>\n",
       "      <td>[+]</td>\n",
       "    </tr>\n",
       "  </tbody>\n",
       "</table>\n",
       "</div>"
      ],
      "text/plain": [
       "      European Union Prices    Last  Previous  Highest  Lowest     Unit  \\\n",
       "2  Consumer Price Index CPI  105.44    106.14   106.14   60.06   points   \n",
       "3            Inflation Rate    0.50      0.60     8.40   -0.50  percent   \n",
       "\n",
       "  Unnamed: 6  \n",
       "2        [+]  \n",
       "3        [+]  "
      ]
     },
     "execution_count": 99,
     "metadata": {},
     "output_type": "execute_result"
    }
   ],
   "source": [
    "# European Union\n",
    "\n",
    "table_eu_gdp = pd.DataFrame(data_list[15][1])\n",
    "\n",
    "table_eu_price = pd.DataFrame(data_list[17][1])\n",
    "\n",
    "table_eu_gdp = table_eu_gdp.drop([2,6,7])\n",
    "table_eu_price = table_eu_price.drop([0,1,4,5,6,7,8,9,10,11], axis = 0)\n",
    "table_eu_price"
   ]
  },
  {
   "cell_type": "code",
   "execution_count": 33,
   "metadata": {},
   "outputs": [
    {
     "data": {
      "text/plain": [
       "2    46.08\n",
       "3     8.90\n",
       "Name: difference, dtype: float64"
      ]
     },
     "execution_count": 33,
     "metadata": {},
     "output_type": "execute_result"
    }
   ],
   "source": [
    "diff(table_eu_gdp)\n",
    "diff(table_eu_price)"
   ]
  },
  {
   "cell_type": "code",
   "execution_count": 34,
   "metadata": {},
   "outputs": [],
   "source": [
    "# nao tem export nem import"
   ]
  },
  {
   "cell_type": "code",
   "execution_count": 35,
   "metadata": {},
   "outputs": [
    {
     "data": {
      "text/plain": [
       "2    0.7\n",
       "3    7.9\n",
       "Name: Distance Max, dtype: float64"
      ]
     },
     "execution_count": 35,
     "metadata": {},
     "output_type": "execute_result"
    }
   ],
   "source": [
    "dist_max(table_eu_gdp)\n",
    "dist_max(table_eu_price)"
   ]
  },
  {
   "cell_type": "code",
   "execution_count": 36,
   "metadata": {},
   "outputs": [
    {
     "data": {
      "text/plain": [
       "14526.52613990157"
      ]
     },
     "execution_count": 36,
     "metadata": {},
     "output_type": "execute_result"
    }
   ],
   "source": [
    "GDP_1year = table_eu_gdp.iloc[1][1] * (1 + (table_eu_gdp.iloc[0][1]/100))\n",
    "GDP_5year = table_eu_gdp.iloc[1][1] * (1 + (table_eu_gdp.iloc[0][1]/100))**5\n",
    "GDP_10year = table_eu_gdp.iloc[1][1] * (1 + (table_eu_gdp.iloc[0][1]/100))**10\n",
    "GDP_10year\n"
   ]
  },
  {
   "cell_type": "code",
   "execution_count": 100,
   "metadata": {},
   "outputs": [
    {
     "data": {
      "text/html": [
       "<div>\n",
       "<style scoped>\n",
       "    .dataframe tbody tr th:only-of-type {\n",
       "        vertical-align: middle;\n",
       "    }\n",
       "\n",
       "    .dataframe tbody tr th {\n",
       "        vertical-align: top;\n",
       "    }\n",
       "\n",
       "    .dataframe thead th {\n",
       "        text-align: right;\n",
       "    }\n",
       "</style>\n",
       "<table border=\"1\" class=\"dataframe\">\n",
       "  <thead>\n",
       "    <tr style=\"text-align: right;\">\n",
       "      <th></th>\n",
       "      <th>Sweden Prices</th>\n",
       "      <th>Last</th>\n",
       "      <th>Previous</th>\n",
       "      <th>Highest</th>\n",
       "      <th>Lowest</th>\n",
       "      <th>Unit</th>\n",
       "      <th>Unnamed: 6</th>\n",
       "    </tr>\n",
       "  </thead>\n",
       "  <tbody>\n",
       "    <tr>\n",
       "      <th>0</th>\n",
       "      <td>Inflation Rate</td>\n",
       "      <td>0.70</td>\n",
       "      <td>0.00</td>\n",
       "      <td>15.50</td>\n",
       "      <td>-1.6</td>\n",
       "      <td>percent</td>\n",
       "      <td>[+]</td>\n",
       "    </tr>\n",
       "    <tr>\n",
       "      <th>2</th>\n",
       "      <td>Consumer Price Index CPI</td>\n",
       "      <td>336.84</td>\n",
       "      <td>334.91</td>\n",
       "      <td>337.68</td>\n",
       "      <td>27.7</td>\n",
       "      <td>points</td>\n",
       "      <td>[+]</td>\n",
       "    </tr>\n",
       "    <tr>\n",
       "      <th>8</th>\n",
       "      <td>Export Prices</td>\n",
       "      <td>111.70</td>\n",
       "      <td>113.20</td>\n",
       "      <td>127.30</td>\n",
       "      <td>77.1</td>\n",
       "      <td>points</td>\n",
       "      <td>[+]</td>\n",
       "    </tr>\n",
       "    <tr>\n",
       "      <th>9</th>\n",
       "      <td>Import Prices</td>\n",
       "      <td>108.90</td>\n",
       "      <td>109.80</td>\n",
       "      <td>128.20</td>\n",
       "      <td>63.6</td>\n",
       "      <td>points</td>\n",
       "      <td>[+]</td>\n",
       "    </tr>\n",
       "    <tr>\n",
       "      <th>11</th>\n",
       "      <td>Inflation Expectations</td>\n",
       "      <td>3.50</td>\n",
       "      <td>3.10</td>\n",
       "      <td>7.80</td>\n",
       "      <td>0.0</td>\n",
       "      <td>percent</td>\n",
       "      <td>[+]</td>\n",
       "    </tr>\n",
       "  </tbody>\n",
       "</table>\n",
       "</div>"
      ],
      "text/plain": [
       "               Sweden Prices    Last  Previous  Highest  Lowest     Unit  \\\n",
       "0             Inflation Rate    0.70      0.00    15.50    -1.6  percent   \n",
       "2   Consumer Price Index CPI  336.84    334.91   337.68    27.7   points   \n",
       "8              Export Prices  111.70    113.20   127.30    77.1   points   \n",
       "9              Import Prices  108.90    109.80   128.20    63.6   points   \n",
       "11    Inflation Expectations    3.50      3.10     7.80     0.0  percent   \n",
       "\n",
       "   Unnamed: 6  \n",
       "0         [+]  \n",
       "2         [+]  \n",
       "8         [+]  \n",
       "9         [+]  \n",
       "11        [+]  "
      ]
     },
     "execution_count": 100,
     "metadata": {},
     "output_type": "execute_result"
    }
   ],
   "source": [
    "# Sweden\n",
    "\n",
    "table_sweden_gdp = pd.DataFrame(data_list[18][1])\n",
    "\n",
    "table_sweden_price = pd.DataFrame(data_list[20][1])\n",
    "\n",
    "table_sweden_gdp = drop_rows_gdp(table_sweden_gdp)\n",
    "table_sweden_price = table_sweden_price.drop([1,3,4,5,6,7,10,12,13,14], axis = 0)\n",
    "table_sweden_price\n"
   ]
  },
  {
   "cell_type": "code",
   "execution_count": 38,
   "metadata": {},
   "outputs": [
    {
     "data": {
      "text/plain": [
       "0      17.10\n",
       "2     309.98\n",
       "8      50.20\n",
       "9      64.60\n",
       "11      7.80\n",
       "Name: difference, dtype: float64"
      ]
     },
     "execution_count": 38,
     "metadata": {},
     "output_type": "execute_result"
    }
   ],
   "source": [
    "diff(table_sweden_gdp)\n",
    "diff(table_sweden_price)"
   ]
  },
  {
   "cell_type": "code",
   "execution_count": 39,
   "metadata": {},
   "outputs": [
    {
     "data": {
      "text/plain": [
       "2.799999999999997"
      ]
     },
     "execution_count": 39,
     "metadata": {},
     "output_type": "execute_result"
    }
   ],
   "source": [
    "Balance_overseas = table_sweden_price.iloc[2][1] - table_sweden_price.iloc[3][1]\n",
    "Balance_overseas"
   ]
  },
  {
   "cell_type": "code",
   "execution_count": 40,
   "metadata": {},
   "outputs": [
    {
     "data": {
      "text/plain": [
       "0     14.80\n",
       "2      0.84\n",
       "8     15.60\n",
       "9     19.30\n",
       "11     4.30\n",
       "Name: Distance Max, dtype: float64"
      ]
     },
     "execution_count": 40,
     "metadata": {},
     "output_type": "execute_result"
    }
   ],
   "source": [
    "dist_max(table_sweden_gdp)\n",
    "dist_max(table_sweden_price)"
   ]
  },
  {
   "cell_type": "code",
   "execution_count": 41,
   "metadata": {},
   "outputs": [
    {
     "data": {
      "text/plain": [
       "552.449503049258"
      ]
     },
     "execution_count": 41,
     "metadata": {},
     "output_type": "execute_result"
    }
   ],
   "source": [
    "GDP_1year = table_sweden_gdp.iloc[2][1] * (1 + (table_sweden_gdp.iloc[1][1]/100))\n",
    "GDP_5year = table_sweden_gdp.iloc[2][1] * (1 + (table_sweden_gdp.iloc[1][1]/100))**5\n",
    "GDP_10year = table_sweden_gdp.iloc[2][1] * (1 + (table_sweden_gdp.iloc[1][1]/100))**10\n",
    "GDP_10year\n"
   ]
  },
  {
   "cell_type": "code",
   "execution_count": 56,
   "metadata": {},
   "outputs": [
    {
     "data": {
      "text/html": [
       "<div>\n",
       "<style scoped>\n",
       "    .dataframe tbody tr th:only-of-type {\n",
       "        vertical-align: middle;\n",
       "    }\n",
       "\n",
       "    .dataframe tbody tr th {\n",
       "        vertical-align: top;\n",
       "    }\n",
       "\n",
       "    .dataframe thead th {\n",
       "        text-align: right;\n",
       "    }\n",
       "</style>\n",
       "<table border=\"1\" class=\"dataframe\">\n",
       "  <thead>\n",
       "    <tr style=\"text-align: right;\">\n",
       "      <th></th>\n",
       "      <th>US</th>\n",
       "      <th>Canada</th>\n",
       "      <th>Switzerland</th>\n",
       "      <th>Japan</th>\n",
       "      <th>UK</th>\n",
       "      <th>EU</th>\n",
       "      <th>Sweden</th>\n",
       "    </tr>\n",
       "  </thead>\n",
       "  <tbody>\n",
       "    <tr>\n",
       "      <th>0</th>\n",
       "      <td>21427.7</td>\n",
       "      <td>1736.43</td>\n",
       "      <td>703.08</td>\n",
       "      <td>5081.77</td>\n",
       "      <td>2827.11</td>\n",
       "      <td>19100.0</td>\n",
       "      <td>530.83</td>\n",
       "    </tr>\n",
       "  </tbody>\n",
       "</table>\n",
       "</div>"
      ],
      "text/plain": [
       "        US   Canada  Switzerland    Japan       UK       EU  Sweden\n",
       "0  21427.7  1736.43       703.08  5081.77  2827.11  19100.0  530.83"
      ]
     },
     "execution_count": 56,
     "metadata": {},
     "output_type": "execute_result"
    }
   ],
   "source": [
    "data = [[table_us_gdp.iloc[2][1], table_canada_gdp.iloc[3][1], table_switzerland_gdp.iloc[2][1], table_japan_gdp.iloc[2][1],table_uk_gdp.iloc[2][1],table_eu_gdp.iloc[1][1],table_sweden_gdp.iloc[2][1]]]\n",
    "\n",
    "df_gdp = pd.DataFrame(data, columns = ['US','Canada', 'Switzerland', 'Japan', 'UK', 'EU', 'Sweden'])\n",
    "df_gdp"
   ]
  },
  {
   "cell_type": "code",
   "execution_count": 68,
   "metadata": {},
   "outputs": [
    {
     "ename": "KeyError",
     "evalue": "\"None of [Int64Index([0], dtype='int64')] are in the [columns]\"",
     "output_type": "error",
     "traceback": [
      "\u001b[1;31m---------------------------------------------------------------------------\u001b[0m",
      "\u001b[1;31mKeyError\u001b[0m                                  Traceback (most recent call last)",
      "\u001b[1;32m<ipython-input-68-8a8d747d0f51>\u001b[0m in \u001b[0;36m<module>\u001b[1;34m\u001b[0m\n\u001b[0;32m      1\u001b[0m g = sns.lmplot(x= df_gdp.index , y = df_gdp.index,\n\u001b[1;32m----> 2\u001b[1;33m                height=5, data=df_gdp)\n\u001b[0m\u001b[0;32m      3\u001b[0m \u001b[1;33m\u001b[0m\u001b[0m\n\u001b[0;32m      4\u001b[0m \u001b[1;31m# Use more informative axis labels than are provided by default\u001b[0m\u001b[1;33m\u001b[0m\u001b[1;33m\u001b[0m\u001b[1;33m\u001b[0m\u001b[0m\n\u001b[0;32m      5\u001b[0m \u001b[0mg\u001b[0m\u001b[1;33m.\u001b[0m\u001b[0mset_axis_labels\u001b[0m\u001b[1;33m(\u001b[0m\u001b[1;34m\"Sepal length (mm)\"\u001b[0m\u001b[1;33m,\u001b[0m \u001b[1;34m\"Sepal width (mm)\"\u001b[0m\u001b[1;33m)\u001b[0m\u001b[1;33m\u001b[0m\u001b[1;33m\u001b[0m\u001b[0m\n",
      "\u001b[1;32m~\\anaconda3\\lib\\site-packages\\seaborn\\regression.py\u001b[0m in \u001b[0;36mlmplot\u001b[1;34m(x, y, data, hue, col, row, palette, col_wrap, height, aspect, markers, sharex, sharey, hue_order, col_order, row_order, legend, legend_out, x_estimator, x_bins, x_ci, scatter, fit_reg, ci, n_boot, units, seed, order, logistic, lowess, robust, logx, x_partial, y_partial, truncate, x_jitter, y_jitter, scatter_kws, line_kws, size)\u001b[0m\n\u001b[0;32m    577\u001b[0m     \u001b[0mneed_cols\u001b[0m \u001b[1;33m=\u001b[0m \u001b[1;33m[\u001b[0m\u001b[0mx\u001b[0m\u001b[1;33m,\u001b[0m \u001b[0my\u001b[0m\u001b[1;33m,\u001b[0m \u001b[0mhue\u001b[0m\u001b[1;33m,\u001b[0m \u001b[0mcol\u001b[0m\u001b[1;33m,\u001b[0m \u001b[0mrow\u001b[0m\u001b[1;33m,\u001b[0m \u001b[0munits\u001b[0m\u001b[1;33m,\u001b[0m \u001b[0mx_partial\u001b[0m\u001b[1;33m,\u001b[0m \u001b[0my_partial\u001b[0m\u001b[1;33m]\u001b[0m\u001b[1;33m\u001b[0m\u001b[1;33m\u001b[0m\u001b[0m\n\u001b[0;32m    578\u001b[0m     \u001b[0mcols\u001b[0m \u001b[1;33m=\u001b[0m \u001b[0mnp\u001b[0m\u001b[1;33m.\u001b[0m\u001b[0munique\u001b[0m\u001b[1;33m(\u001b[0m\u001b[1;33m[\u001b[0m\u001b[0ma\u001b[0m \u001b[1;32mfor\u001b[0m \u001b[0ma\u001b[0m \u001b[1;32min\u001b[0m \u001b[0mneed_cols\u001b[0m \u001b[1;32mif\u001b[0m \u001b[0ma\u001b[0m \u001b[1;32mis\u001b[0m \u001b[1;32mnot\u001b[0m \u001b[1;32mNone\u001b[0m\u001b[1;33m]\u001b[0m\u001b[1;33m)\u001b[0m\u001b[1;33m.\u001b[0m\u001b[0mtolist\u001b[0m\u001b[1;33m(\u001b[0m\u001b[1;33m)\u001b[0m\u001b[1;33m\u001b[0m\u001b[1;33m\u001b[0m\u001b[0m\n\u001b[1;32m--> 579\u001b[1;33m     \u001b[0mdata\u001b[0m \u001b[1;33m=\u001b[0m \u001b[0mdata\u001b[0m\u001b[1;33m[\u001b[0m\u001b[0mcols\u001b[0m\u001b[1;33m]\u001b[0m\u001b[1;33m\u001b[0m\u001b[1;33m\u001b[0m\u001b[0m\n\u001b[0m\u001b[0;32m    580\u001b[0m \u001b[1;33m\u001b[0m\u001b[0m\n\u001b[0;32m    581\u001b[0m     \u001b[1;31m# Initialize the grid\u001b[0m\u001b[1;33m\u001b[0m\u001b[1;33m\u001b[0m\u001b[1;33m\u001b[0m\u001b[0m\n",
      "\u001b[1;32m~\\anaconda3\\lib\\site-packages\\pandas\\core\\frame.py\u001b[0m in \u001b[0;36m__getitem__\u001b[1;34m(self, key)\u001b[0m\n\u001b[0;32m   2804\u001b[0m             \u001b[1;32mif\u001b[0m \u001b[0mis_iterator\u001b[0m\u001b[1;33m(\u001b[0m\u001b[0mkey\u001b[0m\u001b[1;33m)\u001b[0m\u001b[1;33m:\u001b[0m\u001b[1;33m\u001b[0m\u001b[1;33m\u001b[0m\u001b[0m\n\u001b[0;32m   2805\u001b[0m                 \u001b[0mkey\u001b[0m \u001b[1;33m=\u001b[0m \u001b[0mlist\u001b[0m\u001b[1;33m(\u001b[0m\u001b[0mkey\u001b[0m\u001b[1;33m)\u001b[0m\u001b[1;33m\u001b[0m\u001b[1;33m\u001b[0m\u001b[0m\n\u001b[1;32m-> 2806\u001b[1;33m             \u001b[0mindexer\u001b[0m \u001b[1;33m=\u001b[0m \u001b[0mself\u001b[0m\u001b[1;33m.\u001b[0m\u001b[0mloc\u001b[0m\u001b[1;33m.\u001b[0m\u001b[0m_get_listlike_indexer\u001b[0m\u001b[1;33m(\u001b[0m\u001b[0mkey\u001b[0m\u001b[1;33m,\u001b[0m \u001b[0maxis\u001b[0m\u001b[1;33m=\u001b[0m\u001b[1;36m1\u001b[0m\u001b[1;33m,\u001b[0m \u001b[0mraise_missing\u001b[0m\u001b[1;33m=\u001b[0m\u001b[1;32mTrue\u001b[0m\u001b[1;33m)\u001b[0m\u001b[1;33m[\u001b[0m\u001b[1;36m1\u001b[0m\u001b[1;33m]\u001b[0m\u001b[1;33m\u001b[0m\u001b[1;33m\u001b[0m\u001b[0m\n\u001b[0m\u001b[0;32m   2807\u001b[0m \u001b[1;33m\u001b[0m\u001b[0m\n\u001b[0;32m   2808\u001b[0m         \u001b[1;31m# take() does not accept boolean indexers\u001b[0m\u001b[1;33m\u001b[0m\u001b[1;33m\u001b[0m\u001b[1;33m\u001b[0m\u001b[0m\n",
      "\u001b[1;32m~\\anaconda3\\lib\\site-packages\\pandas\\core\\indexing.py\u001b[0m in \u001b[0;36m_get_listlike_indexer\u001b[1;34m(self, key, axis, raise_missing)\u001b[0m\n\u001b[0;32m   1550\u001b[0m \u001b[1;33m\u001b[0m\u001b[0m\n\u001b[0;32m   1551\u001b[0m         self._validate_read_indexer(\n\u001b[1;32m-> 1552\u001b[1;33m             \u001b[0mkeyarr\u001b[0m\u001b[1;33m,\u001b[0m \u001b[0mindexer\u001b[0m\u001b[1;33m,\u001b[0m \u001b[0mo\u001b[0m\u001b[1;33m.\u001b[0m\u001b[0m_get_axis_number\u001b[0m\u001b[1;33m(\u001b[0m\u001b[0maxis\u001b[0m\u001b[1;33m)\u001b[0m\u001b[1;33m,\u001b[0m \u001b[0mraise_missing\u001b[0m\u001b[1;33m=\u001b[0m\u001b[0mraise_missing\u001b[0m\u001b[1;33m\u001b[0m\u001b[1;33m\u001b[0m\u001b[0m\n\u001b[0m\u001b[0;32m   1553\u001b[0m         )\n\u001b[0;32m   1554\u001b[0m         \u001b[1;32mreturn\u001b[0m \u001b[0mkeyarr\u001b[0m\u001b[1;33m,\u001b[0m \u001b[0mindexer\u001b[0m\u001b[1;33m\u001b[0m\u001b[1;33m\u001b[0m\u001b[0m\n",
      "\u001b[1;32m~\\anaconda3\\lib\\site-packages\\pandas\\core\\indexing.py\u001b[0m in \u001b[0;36m_validate_read_indexer\u001b[1;34m(self, key, indexer, axis, raise_missing)\u001b[0m\n\u001b[0;32m   1637\u001b[0m             \u001b[1;32mif\u001b[0m \u001b[0mmissing\u001b[0m \u001b[1;33m==\u001b[0m \u001b[0mlen\u001b[0m\u001b[1;33m(\u001b[0m\u001b[0mindexer\u001b[0m\u001b[1;33m)\u001b[0m\u001b[1;33m:\u001b[0m\u001b[1;33m\u001b[0m\u001b[1;33m\u001b[0m\u001b[0m\n\u001b[0;32m   1638\u001b[0m                 \u001b[0maxis_name\u001b[0m \u001b[1;33m=\u001b[0m \u001b[0mself\u001b[0m\u001b[1;33m.\u001b[0m\u001b[0mobj\u001b[0m\u001b[1;33m.\u001b[0m\u001b[0m_get_axis_name\u001b[0m\u001b[1;33m(\u001b[0m\u001b[0maxis\u001b[0m\u001b[1;33m)\u001b[0m\u001b[1;33m\u001b[0m\u001b[1;33m\u001b[0m\u001b[0m\n\u001b[1;32m-> 1639\u001b[1;33m                 \u001b[1;32mraise\u001b[0m \u001b[0mKeyError\u001b[0m\u001b[1;33m(\u001b[0m\u001b[1;34mf\"None of [{key}] are in the [{axis_name}]\"\u001b[0m\u001b[1;33m)\u001b[0m\u001b[1;33m\u001b[0m\u001b[1;33m\u001b[0m\u001b[0m\n\u001b[0m\u001b[0;32m   1640\u001b[0m \u001b[1;33m\u001b[0m\u001b[0m\n\u001b[0;32m   1641\u001b[0m             \u001b[1;31m# We (temporarily) allow for some missing keys with .loc, except in\u001b[0m\u001b[1;33m\u001b[0m\u001b[1;33m\u001b[0m\u001b[1;33m\u001b[0m\u001b[0m\n",
      "\u001b[1;31mKeyError\u001b[0m: \"None of [Int64Index([0], dtype='int64')] are in the [columns]\""
     ]
    }
   ],
   "source": [
    "g = sns.lmplot(x= df_gdp.index , y = df_gdp.index,\n",
    "               height=5, data=df_gdp)\n",
    "\n",
    "# Use more informative axis labels than are provided by default\n",
    "g.set_axis_labels(\"Sepal length (mm)\", \"Sepal width (mm)\")"
   ]
  },
  {
   "cell_type": "code",
   "execution_count": null,
   "metadata": {},
   "outputs": [],
   "source": []
  },
  {
   "cell_type": "code",
   "execution_count": 116,
   "metadata": {},
   "outputs": [
    {
     "data": {
      "text/html": [
       "<div>\n",
       "<style scoped>\n",
       "    .dataframe tbody tr th:only-of-type {\n",
       "        vertical-align: middle;\n",
       "    }\n",
       "\n",
       "    .dataframe tbody tr th {\n",
       "        vertical-align: top;\n",
       "    }\n",
       "\n",
       "    .dataframe thead th {\n",
       "        text-align: right;\n",
       "    }\n",
       "</style>\n",
       "<table border=\"1\" class=\"dataframe\">\n",
       "  <thead>\n",
       "    <tr style=\"text-align: right;\">\n",
       "      <th></th>\n",
       "      <th>GDP</th>\n",
       "      <th>GDP Growth rate</th>\n",
       "      <th>GDP Per Capita</th>\n",
       "    </tr>\n",
       "  </thead>\n",
       "  <tbody>\n",
       "    <tr>\n",
       "      <th>US</th>\n",
       "      <td>21427.70</td>\n",
       "      <td>0.3</td>\n",
       "      <td>55809.00</td>\n",
       "    </tr>\n",
       "    <tr>\n",
       "      <th>Canada</th>\n",
       "      <td>1736.43</td>\n",
       "      <td>-0.9</td>\n",
       "      <td>42232.99</td>\n",
       "    </tr>\n",
       "    <tr>\n",
       "      <th>Switzerland</th>\n",
       "      <td>703.08</td>\n",
       "      <td>-1.3</td>\n",
       "      <td>79406.70</td>\n",
       "    </tr>\n",
       "    <tr>\n",
       "      <th>Japan</th>\n",
       "      <td>5081.77</td>\n",
       "      <td>-1.7</td>\n",
       "      <td>49187.80</td>\n",
       "    </tr>\n",
       "    <tr>\n",
       "      <th>UK</th>\n",
       "      <td>2827.11</td>\n",
       "      <td>-1.7</td>\n",
       "      <td>43688.40</td>\n",
       "    </tr>\n",
       "    <tr>\n",
       "      <th>EU</th>\n",
       "      <td>19100.00</td>\n",
       "      <td>-2.7</td>\n",
       "      <td>37417.00</td>\n",
       "    </tr>\n",
       "    <tr>\n",
       "      <th>Sweden</th>\n",
       "      <td>530.83</td>\n",
       "      <td>0.4</td>\n",
       "      <td>57975.10</td>\n",
       "    </tr>\n",
       "  </tbody>\n",
       "</table>\n",
       "</div>"
      ],
      "text/plain": [
       "                  GDP  GDP Growth rate  GDP Per Capita\n",
       "US           21427.70              0.3        55809.00\n",
       "Canada        1736.43             -0.9        42232.99\n",
       "Switzerland    703.08             -1.3        79406.70\n",
       "Japan         5081.77             -1.7        49187.80\n",
       "UK            2827.11             -1.7        43688.40\n",
       "EU           19100.00             -2.7        37417.00\n",
       "Sweden         530.83              0.4        57975.10"
      ]
     },
     "execution_count": 116,
     "metadata": {},
     "output_type": "execute_result"
    }
   ],
   "source": [
    "data = [[table_us_gdp.iloc[2][1], table_canada_gdp.iloc[3][1], table_switzerland_gdp.iloc[2][1], table_japan_gdp.iloc[2][1],table_uk_gdp.iloc[2][1],table_eu_gdp.iloc[1][1],table_sweden_gdp.iloc[2][1]], \n",
    "        [table_us_gdp.iloc[1][1], table_canada_gdp.iloc[1][1], table_switzerland_gdp.iloc[1][1], table_japan_gdp.iloc[1][1],table_uk_gdp.iloc[1][1],table_eu_gdp.iloc[0][1],table_sweden_gdp.iloc[1][1]],\n",
    "        [table_us_gdp.iloc[4][1], 42232.99, table_switzerland_gdp.iloc[4][1], table_japan_gdp.iloc[4][1],table_uk_gdp.iloc[4][1],table_eu_gdp.iloc[4][1],table_sweden_gdp.iloc[4][1]]]\n",
    "     \n",
    "\n",
    "df = pd.DataFrame(data, columns = ['US','Canada', 'Switzerland', 'Japan', 'UK', 'EU', 'Sweden'])\n",
    "df = df.T\n",
    "df.columns = ['GDP', 'GDP Growth rate', 'GDP Per Capita']\n",
    "df\n",
    "#[table_us_price.iloc[0][1], table_canada_price[0][1], table_switzerland_price.iloc[0][1], table_japan_price.iloc[0][1],table_uk_price.iloc[0][1],table_eu_price.iloc[1][1],table_sweden_price.iloc[0][1]]"
   ]
  },
  {
   "cell_type": "code",
   "execution_count": 176,
   "metadata": {},
   "outputs": [
    {
     "data": {
      "image/png": "[encoded data removed]",
      "text/plain": [
       "<Figure size 1440x720 with 3 Axes>"
      ]
     },
     "metadata": {
      "needs_background": "light"
     },
     "output_type": "display_data"
    }
   ],
   "source": [
    "f, (a1,a2,a3) = plt.subplots(nrows = 1, ncols = 3, figsize = (20,10))\n",
    "\n",
    "\n",
    "gdp = df['GDP'].sort_values(ascending = False)\n",
    "gdp_gr = df['GDP Growth rate'].sort_values(ascending = False)\n",
    "gdp_pc = df['GDP Per Capita'].sort_values(ascending = False)\n",
    "\n",
    "a1.bar(gdp.index, gdp.values, color = ['green', 'green', 'yellow', 'yellow', 'orange', 'orange', 'red'])\n",
    "a1.tick_params(labelrotation=45)\n",
    "a1.set_title('GDP Comparison', fontsize = 24)\n",
    "a1.set_xlabel('Countries', fontsize = 18)\n",
    "a1.set_ylabel('Value in Trillions(USD)', fontsize = 18)\n",
    "\n",
    "a2.bar(gdp_gr.index, gdp_gr.values, color = ['green', 'green', 'red', 'red', 'red', 'red', 'red'])\n",
    "a2.tick_params(labelrotation=45)\n",
    "a2.set_title('GDP GR Comparison', fontsize = 24)\n",
    "a2.set_xlabel('Countries', fontsize = 18)\n",
    "a2.set_ylabel('Value in %', fontsize = 18)\n",
    "\n",
    "a3.bar(gdp_pc.index, gdp_pc.values, color = ['green', 'yellow', 'yellow', 'yellow', 'orange', 'orange', 'red'])\n",
    "a3.tick_params(labelrotation=45)\n",
    "a3.set_title('GDP Per Capita Comparison', fontsize = 24)\n",
    "a3.set_xlabel('Countries', fontsize = 18)\n",
    "a3.set_ylabel('Value in USD', fontsize = 18)\n",
    "\n",
    "plt.show()\n",
    "f.savefig('Macro_analisys.jpg')"
   ]
  },
  {
   "cell_type": "code",
   "execution_count": null,
   "metadata": {},
   "outputs": [],
   "source": []
  },
  {
   "cell_type": "code",
   "execution_count": null,
   "metadata": {},
   "outputs": [],
   "source": []
  },
  {
   "cell_type": "code",
   "execution_count": null,
   "metadata": {},
   "outputs": [],
   "source": []
  },
  {
   "cell_type": "code",
   "execution_count": null,
   "metadata": {},
   "outputs": [],
   "source": []
  }
 ],
 "metadata": {
  "kernelspec": {
   "display_name": "Python 3",
   "language": "python",
   "name": "python3"
  },
  "language_info": {
   "codemirror_mode": {
    "name": "ipython",
    "version": 3
   },
   "file_extension": ".py",
   "mimetype": "text/x-python",
   "name": "python",
   "nbconvert_exporter": "python",
   "pygments_lexer": "ipython3",
   "version": "3.7.6"
  }
 },
 "nbformat": 4,
 "nbformat_minor": 4
}
