{
 "cells": [
  {
   "cell_type": "code",
   "execution_count": 1,
   "metadata": {},
   "outputs": [],
   "source": [
    "#First step we define the spark session to establish the connection\n",
    "# Fo this we need to import pyspark \n",
    "from pyspark.sql import SparkSession\n",
    "from pyspark.sql.functions import explode\n",
    "from pyspark.sql.functions import split\n",
    "from pyspark.sql.types import StructType\n",
    "\n",
    "spark = SparkSession.builder.appName('stockcount').getOrCreate()\n"
   ]
  },
  {
   "cell_type": "code",
   "execution_count": 2,
   "metadata": {},
   "outputs": [],
   "source": [
    "#import other libraries to be used\n",
    "from textblob import TextBlob # Used to process text and do sentiment analysis\n",
    "from googletrans import Translator #used to translate texts there is not in English\n",
    "from unidecode import unidecode #used to non-usual "
   ]
  },
  {
   "cell_type": "code",
   "execution_count": 3,
   "metadata": {},
   "outputs": [],
   "source": [
    "#Create the dataframe responsable to read each line receied throght the local host and port 9995\n",
    "\n",
    "twitters = spark.readStream.format(\"socket\").option(\"host\", \"localhost\").option(\"port\", 4407).load()"
   ]
  },
  {
   "cell_type": "code",
   "execution_count": 4,
   "metadata": {},
   "outputs": [],
   "source": [
    "from pyspark.sql.functions import col, udf\n",
    "from pyspark.sql.types import StringType, FloatType"
   ]
  },
  {
   "cell_type": "code",
   "execution_count": 5,
   "metadata": {},
   "outputs": [],
   "source": [
    "#Translate function \n",
    "def translate_udf(col):\n",
    "    trans_obj=Translator().translate(col)\n",
    "    return trans_obj.text\n",
    "\n",
    "#function to sentiment analysis\n",
    "def sentiment_udf(col):\n",
    "    sentiment_text=TextBlob(col)\n",
    "    return sentiment_text.polarity"
   ]
  },
  {
   "cell_type": "code",
   "execution_count": 6,
   "metadata": {},
   "outputs": [],
   "source": [
    "#definition of the function as user-defined-function\n",
    "unicode_udf_string = udf(lambda z: unidecode(z), StringType()) #Defines the function of decode to be used in dataframe\n",
    "group_by_sentiment = udf(lambda x: 'bearish' if x < -0.1 else 'Bullish' if x > 0.1 else 'Neutral',StringType())\n",
    "translate_udf_string = udf(translate_udf, StringType())\n",
    "sentiment_udf_float = udf(sentiment_udf, FloatType()) #Translate function\n"
   ]
  },
  {
   "cell_type": "code",
   "execution_count": 6,
   "metadata": {
    "tags": []
   },
   "outputs": [
    {
     "name": "stdout",
     "output_type": "stream",
     "text": [
      "The market is going down\n",
      "-0.15555555555555559\n"
     ]
    }
   ],
   "source": [
    "test = 'O mercado esta indo abaixo'\n",
    "decode = unidecode(test)\n",
    "decodeEN=Translator().translate(decode)\n",
    "print(decodeEN.text)\n",
    "x=str(decodeEN)\n",
    "sentiment = TextBlob(x)\n",
    "print(sentiment.polarity)"
   ]
  },
  {
   "cell_type": "code",
   "execution_count": 7,
   "metadata": {},
   "outputs": [
    {
     "name": "stdout",
     "output_type": "stream",
     "text": [
      "We expect an accumulation to break the resistance zone becomes a support\n",
      "0.0\n"
     ]
    }
   ],
   "source": [
    "test2 = 'Nous nous attendons à une accumulation pour briser la zone de résistance devient un support'\n",
    "decode = unidecode(test2)\n",
    "decodeEN=Translator().translate(decode)\n",
    "print(decodeEN.text)\n",
    "x=str(decodeEN)\n",
    "sentiment = TextBlob(x)\n",
    "print(sentiment.polarity)"
   ]
  },
  {
   "cell_type": "code",
   "execution_count": 33,
   "metadata": {},
   "outputs": [
    {
     "name": "stdout",
     "output_type": "stream",
     "text": [
      "Surprisingly high DXY index, trust in assets\n",
      "0.16\n"
     ]
    }
   ],
   "source": [
    "test4 = 'Überraschend hoher DXY-Index, Vertrauen in Vermögenswerte '\n",
    "decode = unidecode(test4)\n",
    "decodeEN=Translator().translate(decode)\n",
    "print(decodeEN.text)\n",
    "x=str(decodeEN)\n",
    "sentiment = TextBlob(x)\n",
    "print(sentiment.polarity)"
   ]
  },
  {
   "cell_type": "code",
   "execution_count": 34,
   "metadata": {},
   "outputs": [],
   "source": [
    "twitters_unicode = twitters.select(\"value\", unicode_udf_string(twitters.value).alias(\"unicoded\")) #decode\n",
    "twitters_uni_trans=twitters_unicode.select(\"value\", \"unicoded\", translate_udf_string(col(\"unicoded\")).alias(\"stock_twits_EN\")) #Translate\n",
    "twitters_uni_trans_sent=twitters_uni_trans.select(\"value\", \"unicoded\", \"stock_twits_EN\", sentiment_udf_float(col(\"stock_twits_EN\")).alias(\"analysis\")) #Analysis\n",
    "t_sent_label=twitters_uni_trans_sent.select(\"value\", \"unicoded\", \"stock_twits_EN\", \"analysis\", group_by_sentiment(col(\"analysis\")).alias(\"classified\")) #classifica"
   ]
  },
  {
   "cell_type": "code",
   "execution_count": 35,
   "metadata": {},
   "outputs": [],
   "source": [
    "t_sent_count = t_sent_label.groupBy('classified').count()"
   ]
  },
  {
   "cell_type": "code",
   "execution_count": null,
   "metadata": {},
   "outputs": [],
   "source": [
    "#Define schema for the data \n",
    "files_dir = spark.readStream\\\n",
    "    .format(\"txt\")\\\n",
    "    .schema(userSchema)\\\n",
    "    .option('includeTimestamp', 'true')\\\n",
    "    .option(\"header\", \"true\")\\\n",
    "    .option(\"delimiter\", \";\")\\\n",
    "    .option(\"maxFilesPerTrigger\", 1)\\\n",
    "    .load(\"C:\\Users\\Admin\\Desktop\\DATA_ANALYST\\IRON_HACK\\Course_ware\\Week_3\\Project\\Spark-StockTwitterC:\\Users\\Admin\\Desktop\\DATA_ANALYST\\IRON_HACK\\Course_ware\\Week_3\\Project\\Spark-StockTwitter\\*.csv\")"
   ]
  },
  {
   "cell_type": "code",
   "execution_count": null,
   "metadata": {},
   "outputs": [],
   "source": [
    "query = t_sent_count.writeStream.outputMode('update').format(\"console\").option('truncate','false').start()\n",
    "\n",
    "query.awaitTermination() #Waits until the streaming query ends"
   ]
  },
  {
   "cell_type": "code",
   "execution_count": null,
   "metadata": {},
   "outputs": [],
   "source": []
  }
 ],
 "metadata": {
  "kernelspec": {
   "display_name": "Python 3",
   "language": "python",
   "name": "python3"
  },
  "language_info": {
   "codemirror_mode": {
    "name": "ipython",
    "version": 3
   },
   "file_extension": ".py",
   "mimetype": "text/x-python",
   "name": "python",
   "nbconvert_exporter": "python",
   "pygments_lexer": "ipython3",
   "version": "3.7.6"
  }
 },
 "nbformat": 4,
 "nbformat_minor": 4
}